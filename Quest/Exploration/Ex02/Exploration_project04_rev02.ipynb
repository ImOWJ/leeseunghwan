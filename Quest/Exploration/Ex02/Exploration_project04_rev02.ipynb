{
 "cells": [
  {
   "cell_type": "markdown",
   "id": "af7e304d",
   "metadata": {},
   "source": [
    "# 뉴스 요약봇 만들기 [프로젝트]"
   ]
  },
  {
   "cell_type": "markdown",
   "id": "050e704b",
   "metadata": {},
   "source": [
    "## 프로젝트: 뉴스기사 요약해보기"
   ]
  },
  {
   "cell_type": "markdown",
   "id": "ac530e3b",
   "metadata": {},
   "source": [
    "새로운 데이터셋에 대해서 추상적 요약과 추출적 요약을 모두 해보는 시간을 가져본다."
   ]
  },
  {
   "cell_type": "code",
   "execution_count": 1,
   "id": "1d138458",
   "metadata": {},
   "outputs": [
    {
     "name": "stderr",
     "output_type": "stream",
     "text": [
      "[nltk_data] Downloading package stopwords to /aiffel/nltk_data...\n",
      "[nltk_data]   Unzipping corpora/stopwords.zip.\n"
     ]
    },
    {
     "name": "stdout",
     "output_type": "stream",
     "text": [
      "3.6.5\n",
      "2.6.0\n",
      "1.3.3\n",
      "1.2.0\n"
     ]
    }
   ],
   "source": [
    "# 주요 라이브러리 버전 확인\n",
    "import nltk\n",
    "nltk.download('stopwords')\n",
    "\n",
    "import numpy as np\n",
    "import pandas as pd\n",
    "import tensorflow as tf\n",
    "import os\n",
    "import re\n",
    "import matplotlib.pyplot as plt\n",
    "from importlib.metadata import version\n",
    "from nltk.corpus import stopwords\n",
    "from bs4 import BeautifulSoup \n",
    "from tensorflow.keras.preprocessing.text import Tokenizer \n",
    "from tensorflow.keras.preprocessing.sequence import pad_sequences\n",
    "import urllib.request\n",
    "import warnings\n",
    "warnings.filterwarnings(\"ignore\", category=UserWarning, module='bs4')\n",
    "\n",
    "print(nltk.__version__)\n",
    "print(tf.__version__)\n",
    "print(pd.__version__)\n",
    "print(version('summa'))"
   ]
  },
  {
   "cell_type": "markdown",
   "id": "ef4ec7b4",
   "metadata": {},
   "source": [
    "## 데이터 수집하기"
   ]
  },
  {
   "cell_type": "code",
   "execution_count": 2,
   "id": "eb462e02",
   "metadata": {},
   "outputs": [],
   "source": [
    "# 아래의 코드로 데이터를 다운로드\n",
    "import urllib.request\n",
    "urllib.request.urlretrieve(\"https://raw.githubusercontent.com/sunnysai12345/News_Summary/master/news_summary_more.csv\", filename=\"news_summary_more.csv\")\n",
    "data = pd.read_csv('news_summary_more.csv', encoding='iso-8859-1')"
   ]
  },
  {
   "cell_type": "code",
   "execution_count": 3,
   "id": "6c625fc2",
   "metadata": {},
   "outputs": [],
   "source": [
    "df = data.copy()"
   ]
  },
  {
   "cell_type": "code",
   "execution_count": 4,
   "id": "9099a7c2",
   "metadata": {},
   "outputs": [
    {
     "data": {
      "text/html": [
       "<div>\n",
       "<style scoped>\n",
       "    .dataframe tbody tr th:only-of-type {\n",
       "        vertical-align: middle;\n",
       "    }\n",
       "\n",
       "    .dataframe tbody tr th {\n",
       "        vertical-align: top;\n",
       "    }\n",
       "\n",
       "    .dataframe thead th {\n",
       "        text-align: right;\n",
       "    }\n",
       "</style>\n",
       "<table border=\"1\" class=\"dataframe\">\n",
       "  <thead>\n",
       "    <tr style=\"text-align: right;\">\n",
       "      <th></th>\n",
       "      <th>headlines</th>\n",
       "      <th>text</th>\n",
       "    </tr>\n",
       "  </thead>\n",
       "  <tbody>\n",
       "    <tr>\n",
       "      <th>17707</th>\n",
       "      <td>Aus newspaper reprints 'sexist' Serena cartoon...</td>\n",
       "      <td>An Australian newspaper on Wednesday republish...</td>\n",
       "    </tr>\n",
       "    <tr>\n",
       "      <th>17949</th>\n",
       "      <td>I'm okay with harsh comments on my performance...</td>\n",
       "      <td>Abhishek Bachchan, while talking about critici...</td>\n",
       "    </tr>\n",
       "    <tr>\n",
       "      <th>85716</th>\n",
       "      <td>Amazon CEO Jeff Bezos' net worth drops by $2.6...</td>\n",
       "      <td>Amazon CEO Jeff Bezos lost $2.6 billion and sl...</td>\n",
       "    </tr>\n",
       "    <tr>\n",
       "      <th>1681</th>\n",
       "      <td>We want Ram Temple to be constructed by 2025: RSS</td>\n",
       "      <td>Rashtriya Swayamsevak Sangh (RSS) General Secr...</td>\n",
       "    </tr>\n",
       "    <tr>\n",
       "      <th>85089</th>\n",
       "      <td>Yuvraj Singh shows 'door opening and closing s...</td>\n",
       "      <td>Indian middle-order batsman Yuvraj Singh showe...</td>\n",
       "    </tr>\n",
       "    <tr>\n",
       "      <th>77116</th>\n",
       "      <td>27 lakh businesses yet to complete GST registr...</td>\n",
       "      <td>Over 27 lakh businesses are yet to complete re...</td>\n",
       "    </tr>\n",
       "    <tr>\n",
       "      <th>96049</th>\n",
       "      <td>Swiss skier performs world's first 5-rotation ...</td>\n",
       "      <td>Swiss skier Andri Ragettli landed the world's ...</td>\n",
       "    </tr>\n",
       "    <tr>\n",
       "      <th>50962</th>\n",
       "      <td>Tell Davos why 1% Indians get 73% of its wealt...</td>\n",
       "      <td>After Prime Minister Narendra Modi addressed t...</td>\n",
       "    </tr>\n",
       "    <tr>\n",
       "      <th>78622</th>\n",
       "      <td>Bengaluru Metro Phase 2 to have underground se...</td>\n",
       "      <td>The Phase 2 of Bengaluru Metro's Gottigere-Nag...</td>\n",
       "    </tr>\n",
       "    <tr>\n",
       "      <th>58277</th>\n",
       "      <td>China will not export its development model: P...</td>\n",
       "      <td>Chinese President Xi Jinping has said that the...</td>\n",
       "    </tr>\n",
       "  </tbody>\n",
       "</table>\n",
       "</div>"
      ],
      "text/plain": [
       "                                               headlines  \\\n",
       "17707  Aus newspaper reprints 'sexist' Serena cartoon...   \n",
       "17949  I'm okay with harsh comments on my performance...   \n",
       "85716  Amazon CEO Jeff Bezos' net worth drops by $2.6...   \n",
       "1681   We want Ram Temple to be constructed by 2025: RSS   \n",
       "85089  Yuvraj Singh shows 'door opening and closing s...   \n",
       "77116  27 lakh businesses yet to complete GST registr...   \n",
       "96049  Swiss skier performs world's first 5-rotation ...   \n",
       "50962  Tell Davos why 1% Indians get 73% of its wealt...   \n",
       "78622  Bengaluru Metro Phase 2 to have underground se...   \n",
       "58277  China will not export its development model: P...   \n",
       "\n",
       "                                                    text  \n",
       "17707  An Australian newspaper on Wednesday republish...  \n",
       "17949  Abhishek Bachchan, while talking about critici...  \n",
       "85716  Amazon CEO Jeff Bezos lost $2.6 billion and sl...  \n",
       "1681   Rashtriya Swayamsevak Sangh (RSS) General Secr...  \n",
       "85089  Indian middle-order batsman Yuvraj Singh showe...  \n",
       "77116  Over 27 lakh businesses are yet to complete re...  \n",
       "96049  Swiss skier Andri Ragettli landed the world's ...  \n",
       "50962  After Prime Minister Narendra Modi addressed t...  \n",
       "78622  The Phase 2 of Bengaluru Metro's Gottigere-Nag...  \n",
       "58277  Chinese President Xi Jinping has said that the...  "
      ]
     },
     "execution_count": 4,
     "metadata": {},
     "output_type": "execute_result"
    }
   ],
   "source": [
    "# data 확인\n",
    "df.sample(10)"
   ]
  },
  {
   "cell_type": "markdown",
   "id": "d966dc4e",
   "metadata": {},
   "source": [
    "이 데이터는 기사의 본문에 해당되는 text와 headlines 두 가지 열로 구성되어져 있다.\n",
    "\n",
    "추상적 요약을 하는 경우에는 text를 본문, headlines를 이미 요약된 데이터로 삼아서 모델을 학습할 수 있다.   \n",
    "추출적 요약을 하는 경우에는 오직 text열만을 사용한다."
   ]
  },
  {
   "cell_type": "markdown",
   "id": "c767862c",
   "metadata": {},
   "source": [
    "## 데이터 전처리하기 (추상적 요약)"
   ]
  },
  {
   "cell_type": "markdown",
   "id": "56f9266b",
   "metadata": {},
   "source": [
    "데이터를 불러왔으니 전처리를 진행해본다.   \n",
    "- 빈칸으로 존재하는 null 데이터\n",
    "- 의미는 같지만 다른 식으로 작성된 글 같은 중복 항목\n",
    "- 같은 학습할 때 방해가 되는 데이터\n",
    "\n",
    "위 내용을 전처리를 통하여 솎아내보자!"
   ]
  },
  {
   "cell_type": "markdown",
   "id": "736a3982",
   "metadata": {},
   "source": [
    "### 중복 샘플과 NULL 값이 존재하는 샘플 제거"
   ]
  },
  {
   "cell_type": "code",
   "execution_count": 5,
   "id": "6b65e120",
   "metadata": {},
   "outputs": [
    {
     "name": "stdout",
     "output_type": "stream",
     "text": [
      "headlines 열에서 중복을 배제한 유일한 샘플의 수 :  98280\n",
      "text 열에서 중복을 배제한 유일한 샘플의 수 :  98360\n"
     ]
    }
   ],
   "source": [
    "# 데이터의 중복 샘플 유/무 확인\n",
    "print('headlines 열에서 중복을 배제한 유일한 샘플의 수 : ', df['headlines'].nunique())\n",
    "print('text 열에서 중복을 배제한 유일한 샘플의 수 : ', df['text'].nunique())"
   ]
  },
  {
   "cell_type": "markdown",
   "id": "76d914f2",
   "metadata": {},
   "source": [
    "중복을 제외한다면 Text에는 98,360개, headlines에는 98,280개의 유니크한 데이터가 존재한다.\n",
    "\n",
    "데이터프레임의 `drop_duplicates()`를 사용하면, 손쉽게 중복 샘플을 제거할 수 있다."
   ]
  },
  {
   "cell_type": "code",
   "execution_count": 6,
   "id": "47ac68ae",
   "metadata": {},
   "outputs": [
    {
     "name": "stdout",
     "output_type": "stream",
     "text": [
      "전체 샘플수 : 98360\n"
     ]
    }
   ],
   "source": [
    "# inplace=True 를 설정하면 DataFrame 타입 값을 return 하지 않고 data 내부를 직접적으로 바꿉니다\n",
    "df.drop_duplicates(subset = ['text'], inplace=True)\n",
    "print('전체 샘플수 :', (len(df)))"
   ]
  },
  {
   "cell_type": "markdown",
   "id": "2be697e7",
   "metadata": {},
   "source": [
    "중복이 제거되면서 샘플 수가 98,360개로 줄어들었다. 그런데 만약 데이터 Null 값을 가지는 샘플이 있었다면, `drop_duplicates()`가 중복된 Null들을 지워주기는 하겠지만, 여전히 Null 값 한 개가 어딘가 남아있을 수 있다. 데이터에 Null 값이 남아있는지 확인해본다.\n",
    "\n",
    "데이터프레임에 Null 값이 있는지 확인하는 방법은 `.isnull().sum()`을 사용하면 확인이 가능하다."
   ]
  },
  {
   "cell_type": "code",
   "execution_count": 7,
   "id": "13f4bbe3",
   "metadata": {},
   "outputs": [
    {
     "name": "stdout",
     "output_type": "stream",
     "text": [
      "headlines    0\n",
      "text         0\n",
      "dtype: int64\n"
     ]
    }
   ],
   "source": [
    "# DataFrame Null 값 확인\n",
    "print(df.isnull().sum())"
   ]
  },
  {
   "cell_type": "markdown",
   "id": "73d75ba2",
   "metadata": {},
   "source": [
    "### 텍스트 정규화와 불용어 제거"
   ]
  },
  {
   "cell_type": "markdown",
   "id": "98e60716",
   "metadata": {},
   "source": [
    "98,360개의 샘플에는 수많은 단어들이 있다. 사실 그 단어들 중에서는 같은 의미인데도 다른 표현으로 쓰여 마치 다른 단어들처럼 간주되는 경우가 있다.   \n",
    "기계가 굳이 이들을 마치 다른 단어로 간주하게 해서 연산량을 늘리는 것보다는 기계 학습 전에 미리 같은 표현으로 통일시켜주는 것이 기계의 연산량을 줄일 수 있는 방법이다.\n",
    "\n",
    "이러한 방법론을 텍스트 처리에서는 **텍스트 정규화(text normalization)** 라고 한다."
   ]
  },
  {
   "cell_type": "code",
   "execution_count": 8,
   "id": "0cad5cf2",
   "metadata": {},
   "outputs": [
    {
     "name": "stdout",
     "output_type": "stream",
     "text": [
      "정규화 사전의 수:  120\n"
     ]
    }
   ],
   "source": [
    "contractions = {\"ain't\": \"is not\", \"aren't\": \"are not\",\"can't\": \"cannot\", \"'cause\": \"because\", \"could've\": \"could have\", \"couldn't\": \"could not\",\n",
    "                           \"didn't\": \"did not\",  \"doesn't\": \"does not\", \"don't\": \"do not\", \"hadn't\": \"had not\", \"hasn't\": \"has not\", \"haven't\": \"have not\",\n",
    "                           \"he'd\": \"he would\",\"he'll\": \"he will\", \"he's\": \"he is\", \"how'd\": \"how did\", \"how'd'y\": \"how do you\", \"how'll\": \"how will\", \"how's\": \"how is\",\n",
    "                           \"I'd\": \"I would\", \"I'd've\": \"I would have\", \"I'll\": \"I will\", \"I'll've\": \"I will have\",\"I'm\": \"I am\", \"I've\": \"I have\", \"i'd\": \"i would\",\n",
    "                           \"i'd've\": \"i would have\", \"i'll\": \"i will\",  \"i'll've\": \"i will have\",\"i'm\": \"i am\", \"i've\": \"i have\", \"isn't\": \"is not\", \"it'd\": \"it would\",\n",
    "                           \"it'd've\": \"it would have\", \"it'll\": \"it will\", \"it'll've\": \"it will have\",\"it's\": \"it is\", \"let's\": \"let us\", \"ma'am\": \"madam\",\n",
    "                           \"mayn't\": \"may not\", \"might've\": \"might have\",\"mightn't\": \"might not\",\"mightn't've\": \"might not have\", \"must've\": \"must have\",\n",
    "                           \"mustn't\": \"must not\", \"mustn't've\": \"must not have\", \"needn't\": \"need not\", \"needn't've\": \"need not have\",\"o'clock\": \"of the clock\",\n",
    "                           \"oughtn't\": \"ought not\", \"oughtn't've\": \"ought not have\", \"shan't\": \"shall not\", \"sha'n't\": \"shall not\", \"shan't've\": \"shall not have\",\n",
    "                           \"she'd\": \"she would\", \"she'd've\": \"she would have\", \"she'll\": \"she will\", \"she'll've\": \"she will have\", \"she's\": \"she is\",\n",
    "                           \"should've\": \"should have\", \"shouldn't\": \"should not\", \"shouldn't've\": \"should not have\", \"so've\": \"so have\",\"so's\": \"so as\",\n",
    "                           \"this's\": \"this is\",\"that'd\": \"that would\", \"that'd've\": \"that would have\", \"that's\": \"that is\", \"there'd\": \"there would\",\n",
    "                           \"there'd've\": \"there would have\", \"there's\": \"there is\", \"here's\": \"here is\",\"they'd\": \"they would\", \"they'd've\": \"they would have\",\n",
    "                           \"they'll\": \"they will\", \"they'll've\": \"they will have\", \"they're\": \"they are\", \"they've\": \"they have\", \"to've\": \"to have\",\n",
    "                           \"wasn't\": \"was not\", \"we'd\": \"we would\", \"we'd've\": \"we would have\", \"we'll\": \"we will\", \"we'll've\": \"we will have\", \"we're\": \"we are\",\n",
    "                           \"we've\": \"we have\", \"weren't\": \"were not\", \"what'll\": \"what will\", \"what'll've\": \"what will have\", \"what're\": \"what are\",\n",
    "                           \"what's\": \"what is\", \"what've\": \"what have\", \"when's\": \"when is\", \"when've\": \"when have\", \"where'd\": \"where did\", \"where's\": \"where is\",\n",
    "                           \"where've\": \"where have\", \"who'll\": \"who will\", \"who'll've\": \"who will have\", \"who's\": \"who is\", \"who've\": \"who have\",\n",
    "                           \"why's\": \"why is\", \"why've\": \"why have\", \"will've\": \"will have\", \"won't\": \"will not\", \"won't've\": \"will not have\",\n",
    "                           \"would've\": \"would have\", \"wouldn't\": \"would not\", \"wouldn't've\": \"would not have\", \"y'all\": \"you all\",\n",
    "                           \"y'all'd\": \"you all would\",\"y'all'd've\": \"you all would have\",\"y'all're\": \"you all are\",\"y'all've\": \"you all have\",\n",
    "                           \"you'd\": \"you would\", \"you'd've\": \"you would have\", \"you'll\": \"you will\", \"you'll've\": \"you will have\",\n",
    "                           \"you're\": \"you are\", \"you've\": \"you have\"}\n",
    "\n",
    "print(\"정규화 사전의 수: \", len(contractions))"
   ]
  },
  {
   "cell_type": "markdown",
   "id": "dcdf40f9",
   "metadata": {},
   "source": [
    "정규화 준비까지 마쳤으니, 불용어`(stopwords)` 제거를 위한 준비도 해보자!"
   ]
  },
  {
   "cell_type": "code",
   "execution_count": 9,
   "id": "32ed0466",
   "metadata": {},
   "outputs": [
    {
     "name": "stdout",
     "output_type": "stream",
     "text": [
      "불용어 갯수 : 179\n",
      "['i', 'me', 'my', 'myself', 'we', 'our', 'ours', 'ourselves', 'you', \"you're\", \"you've\", \"you'll\", \"you'd\", 'your', 'yours', 'yourself', 'yourselves', 'he', 'him', 'his', 'himself', 'she', \"she's\", 'her', 'hers', 'herself', 'it', \"it's\", 'its', 'itself', 'they', 'them', 'their', 'theirs', 'themselves', 'what', 'which', 'who', 'whom', 'this', 'that', \"that'll\", 'these', 'those', 'am', 'is', 'are', 'was', 'were', 'be', 'been', 'being', 'have', 'has', 'had', 'having', 'do', 'does', 'did', 'doing', 'a', 'an', 'the', 'and', 'but', 'if', 'or', 'because', 'as', 'until', 'while', 'of', 'at', 'by', 'for', 'with', 'about', 'against', 'between', 'into', 'through', 'during', 'before', 'after', 'above', 'below', 'to', 'from', 'up', 'down', 'in', 'out', 'on', 'off', 'over', 'under', 'again', 'further', 'then', 'once', 'here', 'there', 'when', 'where', 'why', 'how', 'all', 'any', 'both', 'each', 'few', 'more', 'most', 'other', 'some', 'such', 'no', 'nor', 'not', 'only', 'own', 'same', 'so', 'than', 'too', 'very', 's', 't', 'can', 'will', 'just', 'don', \"don't\", 'should', \"should've\", 'now', 'd', 'll', 'm', 'o', 're', 've', 'y', 'ain', 'aren', \"aren't\", 'couldn', \"couldn't\", 'didn', \"didn't\", 'doesn', \"doesn't\", 'hadn', \"hadn't\", 'hasn', \"hasn't\", 'haven', \"haven't\", 'isn', \"isn't\", 'ma', 'mightn', \"mightn't\", 'mustn', \"mustn't\", 'needn', \"needn't\", 'shan', \"shan't\", 'shouldn', \"shouldn't\", 'wasn', \"wasn't\", 'weren', \"weren't\", 'won', \"won't\", 'wouldn', \"wouldn't\"]\n"
     ]
    }
   ],
   "source": [
    "print(\"불용어 갯수 :\", len(stopwords.words('english')))\n",
    "print(stopwords.words('english'))"
   ]
  },
  {
   "cell_type": "markdown",
   "id": "978f56c8",
   "metadata": {},
   "source": [
    "NLTK에서 미리 정의하여 제공하고 있는 불용어는 총 179개라는 것을 확인할 수 있다.   \n",
    "이를 사용하여 불용어를 제거한다.\n",
    "\n",
    "이외에도 영어문자는 소문자로, 섞여있는 html 태그를 제거하고, 정규 표현식을 통해 각종 특수문자를 제거해서 정말 필요한 내용만 잘 학습할 수 있도록 처리해보자!"
   ]
  },
  {
   "cell_type": "markdown",
   "id": "a2fec8ab",
   "metadata": {},
   "source": [
    "함수의 하단을 보면, NLTK를 이용해 불용어를 제거하는 파트가 있는데, 이는 text 전처리 시에서만 호출하고 이미 상대적으로 문장 길이가 짧은 headlines 전처리할 때는 호출하지 않을 예정이다. Abstractive한 문장 요약 결과문이 자연스러운 문장이 되려면 이 불용어들이 headlines에는 남아 있는 게 더 좋을 것 같다. 이 처리를 위해서 함수의 인자로 `remove_stopwords`를 추가하고, `if문`을 추가했다."
   ]
  },
  {
   "cell_type": "code",
   "execution_count": 10,
   "id": "64ae0ca4",
   "metadata": {},
   "outputs": [],
   "source": [
    "# 데이터 전처리 함수\n",
    "def preprocess_sentence(sentence, remove_stopwords=True):\n",
    "    sentence = sentence.lower() # 텍스트 소문자화\n",
    "    sentence = BeautifulSoup(sentence, \"lxml\").text # <br />, <a href = ...> 등의 html 태그 제거\n",
    "    sentence = re.sub(r'\\([^)]*\\)', '', sentence) # 괄호로 닫힌 문자열 (...) 제거 Ex) my husband (and myself!) for => my husband for\n",
    "    sentence = re.sub('\"','', sentence) # 쌍따옴표 \" 제거\n",
    "    sentence = ' '.join([contractions[t] if t in contractions else t for t in sentence.split(\" \")]) # 약어 정규화\n",
    "    sentence = re.sub(r\"'s\\b\",\"\", sentence) # 소유격 제거. Ex) roland's -> roland\n",
    "    sentence = re.sub(\"[^a-zA-Z]\", \" \", sentence) # 영어 외 문자(숫자, 특수문자 등) 공백으로 변환\n",
    "    sentence = re.sub('[m]{2,}', 'mm', sentence) # m이 3개 이상이면 2개로 변경. Ex) ummmmmmm yeah -> umm yeah\n",
    "    \n",
    "    # 불용어 제거 (text)\n",
    "    if remove_stopwords:\n",
    "        tokens = ' '.join(word for word in sentence.split() if not word in stopwords.words('english') if len(word) > 1)\n",
    "    # 불용어 미제거 (headlines)\n",
    "    else:\n",
    "        tokens = ' '.join(word for word in sentence.split() if len(word) > 1)\n",
    "    return tokens"
   ]
  },
  {
   "cell_type": "markdown",
   "id": "5edb04ef",
   "metadata": {},
   "source": [
    "전처리 전, 후의 결과를 확인하기 위해서 임의의 text와 summary를 만들어 함수를 호출해본다."
   ]
  },
  {
   "cell_type": "code",
   "execution_count": 11,
   "id": "6255015d",
   "metadata": {},
   "outputs": [
    {
     "name": "stdout",
     "output_type": "stream",
     "text": [
      "text:  everything bought great infact ordered twice third ordered wasfor mother father\n",
      "headlines: great way to start the day\n"
     ]
    }
   ],
   "source": [
    "temp_text = 'Everything I bought was great, infact I ordered twice and the third ordered was<br />for my mother and father.'\n",
    "temp_headlines = 'Great way to start (or finish) the day!!!'\n",
    "\n",
    "print(\"text: \", preprocess_sentence(temp_text))\n",
    "print(\"headlines:\", preprocess_sentence(temp_headlines, False))  # 불용어를 제거하지 않습니다."
   ]
  },
  {
   "cell_type": "markdown",
   "id": "5dbed888",
   "metadata": {},
   "source": [
    "결과를 보면 기본적으로 모든 알파벳이 소문자로 변환되고, `<br />`과 같은 html 태그가 제거되었다. `(or finish)`와 같은 괄호로 묶였던 단어 시퀀스가 제거된 것도 확인할 수 있다. 또한 특수문자가 제거되면서 영어만 남았다."
   ]
  },
  {
   "cell_type": "markdown",
   "id": "2a7fb48c",
   "metadata": {},
   "source": [
    "위에서 함수가 잘 실행되는 것을 확인했으니, 훈련 데이터 전체에 대해서 전처리를 수행한다.   \n",
    "이때, text의 경우에는 불용어를 제거하고, headlines의 경우에는 불용어를 제거하지 않을 것이므로 따로 호출해서 진행해야 한다."
   ]
  },
  {
   "cell_type": "code",
   "execution_count": 12,
   "id": "4b03fbfe",
   "metadata": {},
   "outputs": [
    {
     "name": "stdout",
     "output_type": "stream",
     "text": [
      "text 전처리 후 결과:  ['saurav kant alumnus upgrad iiit pg program machine learning artificial intelligence sr systems engineer infosys almost years work experience program upgrad degree career support helped transition data scientist tech mahindra salary hike upgrad online power learning powered lakh careers', 'kunal shah credit card bill payment platform cred gave users chance win free food swiggy one year pranav kaushik delhi techie bagged reward spending cred coins users get one cred coin per rupee bill paid used avail rewards brands like ixigo bookmyshow ubereats cult fit', 'new zealand defeated india wickets fourth odi hamilton thursday win first match five match odi series india lost international match rohit sharma captaincy consecutive victories dating back march match witnessed india getting seventh lowest total odi cricket history', 'aegon life iterm insurance plan customers enjoy tax benefits premiums paid save taxes plan provides life cover age years also customers options insure critical illnesses disability accidental death benefit rider life cover age years', 'speaking sexual harassment allegations rajkumar hirani sonam kapoor said known hirani many years true metoo movement get derailed metoo movement always believe woman case need reserve judgment added hirani accused assistant worked sanju']\n"
     ]
    }
   ],
   "source": [
    "# 전체 text 데이터에 대한 전처리\n",
    "clean_text = []\n",
    "\n",
    "for i in df['text']:\n",
    "    clean_text.append(preprocess_sentence(i))\n",
    "    \n",
    "# 전처리 후 출력\n",
    "print(\"text 전처리 후 결과: \", clean_text[:5])"
   ]
  },
  {
   "cell_type": "markdown",
   "id": "0270a703",
   "metadata": {},
   "source": [
    "이제 headlines에 대해서 전처리 함수를 호출해 줄 때는, 불용어 제거를 수행하지 않는다는 의미에서 두 번째 인자로 False를 넣어준다."
   ]
  },
  {
   "cell_type": "code",
   "execution_count": 13,
   "id": "69b6700c",
   "metadata": {},
   "outputs": [
    {
     "name": "stdout",
     "output_type": "stream",
     "text": [
      "text 전처리 후 결과:  ['upgrad learner switches to career in ml al with salary hike', 'delhi techie wins free food from swiggy for one year on cred', 'new zealand end rohit sharma led india match winning streak', 'aegon life iterm insurance plan helps customers save tax', 'have known hirani for yrs what if metoo claims are not true sonam']\n"
     ]
    }
   ],
   "source": [
    "# 전체 headlines 데이터에 대한 전처리\n",
    "clean_headlines = []\n",
    "\n",
    "for i in df['headlines']:\n",
    "    clean_headlines.append(preprocess_sentence(i, False))\n",
    "    \n",
    "# 전처리 후 출력\n",
    "print(\"text 전처리 후 결과: \", clean_headlines[:5])"
   ]
  },
  {
   "cell_type": "markdown",
   "id": "391a3c08",
   "metadata": {},
   "source": [
    "이렇게 텍스트 정제의 과정을 거친 후에는 다시 한번 빈(empty) 샘플이 생겼는지 확인해보는 것이 좋다. 정제 전에는 데이터가 존재했지만, 정제 과정에서 문장의 모든 단어가 사라지는 경우가 있을 수 있다. 이렇게 되면 샘플 자체가 빈 값을 가지게 되기 때문이다.\n",
    "\n",
    "보다 쉽게 확인하기 위해 데이터들을 데이터프레임에 재저장한다. 빈(empty) 값을 가진 샘플들이 있다면, 모두 Null 값을 가진 샘플로 대체한다."
   ]
  },
  {
   "cell_type": "code",
   "execution_count": 14,
   "id": "64327d7a",
   "metadata": {},
   "outputs": [],
   "source": [
    "df['text'] = clean_text\n",
    "df['headlines'] = clean_headlines\n",
    "\n",
    "# 빈 값을 Null 값으로 변환\n",
    "df.replace('', np.nan, inplace=True)"
   ]
  },
  {
   "cell_type": "markdown",
   "id": "08ebfe98",
   "metadata": {},
   "source": [
    "이전과 같이 `.isnull().sum()`을 사용해서 `Null`값이 생겼는지 확인해본다."
   ]
  },
  {
   "cell_type": "code",
   "execution_count": 15,
   "id": "f91b0186",
   "metadata": {},
   "outputs": [
    {
     "data": {
      "text/plain": [
       "headlines    0\n",
       "text         0\n",
       "dtype: int64"
      ]
     },
     "execution_count": 15,
     "metadata": {},
     "output_type": "execute_result"
    }
   ],
   "source": [
    "df.isnull().sum()"
   ]
  },
  {
   "cell_type": "markdown",
   "id": "bb6c49b6",
   "metadata": {},
   "source": [
    "위 결과로 확인할 때 Null값은 생기지 않은 것을 확인할 수 있다.   \n",
    "다시 한번 전체 샘플 수를 확인한다."
   ]
  },
  {
   "cell_type": "code",
   "execution_count": 16,
   "id": "a6e30fe7",
   "metadata": {},
   "outputs": [
    {
     "name": "stdout",
     "output_type": "stream",
     "text": [
      "전체 샘플 수 : 98360\n"
     ]
    }
   ],
   "source": [
    "print('전체 샘플 수 :', (len(df)))"
   ]
  },
  {
   "cell_type": "markdown",
   "id": "3e749355",
   "metadata": {},
   "source": [
    "### 훈련데이터와 테스트데이터 나누기\n",
    "학습을 진행하기 위해서는 학습에 사용할 데이터의 크기를 결정하고, 문장의 시작과 끝을 표시해야 한다."
   ]
  },
  {
   "cell_type": "markdown",
   "id": "bd213a1f",
   "metadata": {},
   "source": [
    "#### 샘플의 최대 길이 정하기\n",
    "필요 없는 단어를 모두 솎아낸 데이터를 가지게 되었으니, 이제 훈련에 사용할 샘플의 최대 길이를 정한다.\n",
    "text와 headlines의 최소, 최대, 평균 길이를 구하고 또한 길이 분포를 시각화한다."
   ]
  },
  {
   "cell_type": "code",
   "execution_count": 17,
   "id": "7d858b1b",
   "metadata": {},
   "outputs": [
    {
     "name": "stdout",
     "output_type": "stream",
     "text": [
      "텍스트의 최소 길이 : 1\n",
      "텍스트의 최대 길이 : 60\n",
      "텍스트의 평균 길이 : 35.09968483123221\n",
      "머릿말의 최소 길이 : 1\n",
      "머릿말의 최대 길이 : 16\n",
      "머릿말의 평균 길이 : 9.299532330215534\n"
     ]
    },
    {
     "data": {
      "image/png": "[encoded data removed]",
      "text/plain": [
       "<Figure size 432x288 with 2 Axes>"
      ]
     },
     "metadata": {
      "needs_background": "light"
     },
     "output_type": "display_data"
    },
    {
     "data": {
      "image/png": "[encoded data removed]",
      "text/plain": [
       "<Figure size 432x288 with 1 Axes>"
      ]
     },
     "metadata": {
      "needs_background": "light"
     },
     "output_type": "display_data"
    },
    {
     "data": {
      "image/png": "[encoded data removed]",
      "text/plain": [
       "<Figure size 432x288 with 1 Axes>"
      ]
     },
     "metadata": {
      "needs_background": "light"
     },
     "output_type": "display_data"
    }
   ],
   "source": [
    "# 길이 분포 출력\n",
    "import matplotlib.pyplot as plt\n",
    "\n",
    "text_len = [len(s.split()) for s in df['text']]\n",
    "headlines_len = [len(s.split()) for s in df['headlines']]\n",
    "\n",
    "print('텍스트의 최소 길이 : {}'.format(np.min(text_len)))\n",
    "print('텍스트의 최대 길이 : {}'.format(np.max(text_len)))\n",
    "print('텍스트의 평균 길이 : {}'.format(np.mean(text_len)))\n",
    "print('머릿말의 최소 길이 : {}'.format(np.min(headlines_len)))\n",
    "print('머릿말의 최대 길이 : {}'.format(np.max(headlines_len)))\n",
    "print('머릿말의 평균 길이 : {}'.format(np.mean(headlines_len)))\n",
    "\n",
    "plt.subplot(1,2,1)\n",
    "plt.boxplot(text_len)\n",
    "plt.title('Text')\n",
    "plt.subplot(1,2,2)\n",
    "plt.boxplot(headlines_len)\n",
    "plt.title('headlines')\n",
    "plt.tight_layout()\n",
    "plt.show()\n",
    "\n",
    "plt.title('Text')\n",
    "plt.hist(text_len, bins = 40)\n",
    "plt.xlabel('length of samples')\n",
    "plt.ylabel('number of samples')\n",
    "plt.show()\n",
    "\n",
    "plt.title('headlines')\n",
    "plt.hist(headlines_len, bins = 40)\n",
    "plt.xlabel('length of samples')\n",
    "plt.ylabel('number of samples')\n",
    "plt.show()"
   ]
  },
  {
   "cell_type": "markdown",
   "id": "e2530ec3",
   "metadata": {},
   "source": [
    "위의 그래프처럼, 많은 양의 데이터를 다룰 때는 데이터를 시각화하여 보는 것이 도움이 된다. 위에서부터 차례대로 그래프는 각각 실제 텍스트와 머릿말의 길이 분포, 실제 텍스트 샘플 길이별 개수, 머릿말 샘플 길이별 개수를 나타내고 있다.\n",
    "\n",
    "text의 경우 최소 길이가 1, 최대 길이가 60로 그 차이가 굉장히 크죠. 하지만 평균 길이는 35로 시각화된 그래프로 봤을 때는 대체적으로는 100 내외의 길이를 가진다는 것을 확인할 수 있다.\n",
    "\n",
    "headlines의 경우 최소 길이가 1, 최대 길이가 16, 그리고 평균 길이가 9로 text에 비해 상대적으로 길이가 매우 짧다. 그래프로 봤을 때에도 대체적으로 9이하의 길이를 가지고 있다."
   ]
  },
  {
   "cell_type": "markdown",
   "id": "c31a85db",
   "metadata": {},
   "source": [
    "이로부터 text의 최대 길이와 headlines의 적절한 최대 길이를 임의로 정해본다."
   ]
  },
  {
   "cell_type": "code",
   "execution_count": 18,
   "id": "02e3b015",
   "metadata": {},
   "outputs": [],
   "source": [
    "text_max_len = 40\n",
    "headlines_max_len = 11"
   ]
  },
  {
   "cell_type": "markdown",
   "id": "72ea97ec",
   "metadata": {},
   "source": [
    "각각 40과 11로 정했는데 이 길이를 선택했을 때, 얼마나 많은 샘플들을 자르지 않고 포함할 수 있는지 통계로 확인하는 편이 객관적으로 길이를 결정하는 데 도움이 된다. 훈련 데이터와 샘플의 길이를 입력하면, 데이터의 몇 %가 해당하는지 계산하는 함수를 만들어서 좀 더 정확하게 판단해보도록 한다."
   ]
  },
  {
   "cell_type": "code",
   "execution_count": 19,
   "id": "462dc6f5",
   "metadata": {},
   "outputs": [],
   "source": [
    "def below_threshold_len(max_len, nested_list):\n",
    "  cnt = 0\n",
    "  for s in nested_list:\n",
    "    if(len(s.split()) <= max_len):\n",
    "        cnt = cnt + 1\n",
    "  print('전체 샘플 중 길이가 %s 이하인 샘플의 비율: %s'%(max_len, (cnt / len(nested_list))))"
   ]
  },
  {
   "cell_type": "markdown",
   "id": "d2d9f9c6",
   "metadata": {},
   "source": [
    "이렇게 만든 함수를 text와 headlines에 적용해 우리가 결정한 임의의 길이가 몇%의 샘플까지 포함하는지 볼 수 있다."
   ]
  },
  {
   "cell_type": "code",
   "execution_count": 20,
   "id": "9e1a90d0",
   "metadata": {},
   "outputs": [
    {
     "name": "stdout",
     "output_type": "stream",
     "text": [
      "전체 샘플 중 길이가 40 이하인 샘플의 비율: 0.9238714924766165\n",
      "전체 샘플 중 길이가 11 이하인 샘플의 비율: 0.9449877999186661\n"
     ]
    }
   ],
   "source": [
    "below_threshold_len(text_max_len, df['text'])\n",
    "below_threshold_len(headlines_max_len, df['headlines'])"
   ]
  },
  {
   "cell_type": "markdown",
   "id": "e7ecfa3f",
   "metadata": {},
   "source": [
    "우리는 정해진 길이에 맞춰 자르는 것이 아니라, 정해진 길이보다 길면 제외하는 방법으로 데이터를 정제해본다."
   ]
  },
  {
   "cell_type": "code",
   "execution_count": 21,
   "id": "de5a7fc1",
   "metadata": {},
   "outputs": [
    {
     "name": "stdout",
     "output_type": "stream",
     "text": [
      "전체 샘플수 : 85843\n"
     ]
    }
   ],
   "source": [
    "df = df[df['text'].apply(lambda x: len(x.split()) <= text_max_len)]\n",
    "df = df[df['headlines'].apply(lambda x: len(x.split()) <= headlines_max_len)]\n",
    "\n",
    "print('전체 샘플수 :', (len(df)))"
   ]
  },
  {
   "cell_type": "markdown",
   "id": "a8269f3c",
   "metadata": {},
   "source": [
    "#### 시작 토큰과 종료 토큰 추가하기\n",
    "디코더는 시작 토큰을 입력받아 문장을 생성하기 시작하고, 종료 토큰을 예측한 순간에 문장 생성을 멈추는 것이다.\n",
    "\n",
    "seq2seq 훈련을 위해서는 디코더의 입력과 레이블에 시작 토큰과 종료 토큰을 추가할 필요가 있다.   \n",
    "이번 프로젝트에서는 시작 토큰은 sostoken, 종료 토큰은 eostoken이라 임의로 명명하고 앞, 뒤로 추가할 것이다.   \n",
    "디코더의 입력에 해당하면서 시작 토큰이 맨 앞에 있는 문장의 이름을 decoder_input, 디코더의 출력 또는 레이블에 해당되면서 종료 토큰이 맨 뒤에 붙는 문장의 이름을 decoder_target이라고 이름을 정하였다.   \n",
    "두 개의 문장 모두 headlines 열로부터 만들것이다."
   ]
  },
  {
   "cell_type": "code",
   "execution_count": 22,
   "id": "08861812",
   "metadata": {},
   "outputs": [
    {
     "data": {
      "text/html": [
       "<div>\n",
       "<style scoped>\n",
       "    .dataframe tbody tr th:only-of-type {\n",
       "        vertical-align: middle;\n",
       "    }\n",
       "\n",
       "    .dataframe tbody tr th {\n",
       "        vertical-align: top;\n",
       "    }\n",
       "\n",
       "    .dataframe thead th {\n",
       "        text-align: right;\n",
       "    }\n",
       "</style>\n",
       "<table border=\"1\" class=\"dataframe\">\n",
       "  <thead>\n",
       "    <tr style=\"text-align: right;\">\n",
       "      <th></th>\n",
       "      <th>headlines</th>\n",
       "      <th>text</th>\n",
       "      <th>decoder_input</th>\n",
       "      <th>decoder_target</th>\n",
       "    </tr>\n",
       "  </thead>\n",
       "  <tbody>\n",
       "    <tr>\n",
       "      <th>0</th>\n",
       "      <td>upgrad learner switches to career in ml al wit...</td>\n",
       "      <td>saurav kant alumnus upgrad iiit pg program mac...</td>\n",
       "      <td>sostoken upgrad learner switches to career in ...</td>\n",
       "      <td>upgrad learner switches to career in ml al wit...</td>\n",
       "    </tr>\n",
       "    <tr>\n",
       "      <th>2</th>\n",
       "      <td>new zealand end rohit sharma led india match w...</td>\n",
       "      <td>new zealand defeated india wickets fourth odi ...</td>\n",
       "      <td>sostoken new zealand end rohit sharma led indi...</td>\n",
       "      <td>new zealand end rohit sharma led india match w...</td>\n",
       "    </tr>\n",
       "    <tr>\n",
       "      <th>3</th>\n",
       "      <td>aegon life iterm insurance plan helps customer...</td>\n",
       "      <td>aegon life iterm insurance plan customers enjo...</td>\n",
       "      <td>sostoken aegon life iterm insurance plan helps...</td>\n",
       "      <td>aegon life iterm insurance plan helps customer...</td>\n",
       "    </tr>\n",
       "    <tr>\n",
       "      <th>5</th>\n",
       "      <td>rahat fateh ali khan denies getting notice for...</td>\n",
       "      <td>pakistani singer rahat fateh ali khan denied r...</td>\n",
       "      <td>sostoken rahat fateh ali khan denies getting n...</td>\n",
       "      <td>rahat fateh ali khan denies getting notice for...</td>\n",
       "    </tr>\n",
       "    <tr>\n",
       "      <th>7</th>\n",
       "      <td>govt directs alok verma to join work day befor...</td>\n",
       "      <td>weeks ex cbi director alok verma told departme...</td>\n",
       "      <td>sostoken govt directs alok verma to join work ...</td>\n",
       "      <td>govt directs alok verma to join work day befor...</td>\n",
       "    </tr>\n",
       "  </tbody>\n",
       "</table>\n",
       "</div>"
      ],
      "text/plain": [
       "                                           headlines  \\\n",
       "0  upgrad learner switches to career in ml al wit...   \n",
       "2  new zealand end rohit sharma led india match w...   \n",
       "3  aegon life iterm insurance plan helps customer...   \n",
       "5  rahat fateh ali khan denies getting notice for...   \n",
       "7  govt directs alok verma to join work day befor...   \n",
       "\n",
       "                                                text  \\\n",
       "0  saurav kant alumnus upgrad iiit pg program mac...   \n",
       "2  new zealand defeated india wickets fourth odi ...   \n",
       "3  aegon life iterm insurance plan customers enjo...   \n",
       "5  pakistani singer rahat fateh ali khan denied r...   \n",
       "7  weeks ex cbi director alok verma told departme...   \n",
       "\n",
       "                                       decoder_input  \\\n",
       "0  sostoken upgrad learner switches to career in ...   \n",
       "2  sostoken new zealand end rohit sharma led indi...   \n",
       "3  sostoken aegon life iterm insurance plan helps...   \n",
       "5  sostoken rahat fateh ali khan denies getting n...   \n",
       "7  sostoken govt directs alok verma to join work ...   \n",
       "\n",
       "                                      decoder_target  \n",
       "0  upgrad learner switches to career in ml al wit...  \n",
       "2  new zealand end rohit sharma led india match w...  \n",
       "3  aegon life iterm insurance plan helps customer...  \n",
       "5  rahat fateh ali khan denies getting notice for...  \n",
       "7  govt directs alok verma to join work day befor...  "
      ]
     },
     "execution_count": 22,
     "metadata": {},
     "output_type": "execute_result"
    }
   ],
   "source": [
    "# 요약 데이터에는 시작 토큰과 종료 토큰을 추가한다.\n",
    "df['decoder_input'] = df['headlines'].apply(lambda x : 'sostoken '+ x)\n",
    "df['decoder_target'] = df['headlines'].apply(lambda x : x + ' eostoken')\n",
    "df.head()"
   ]
  },
  {
   "cell_type": "markdown",
   "id": "4181acda",
   "metadata": {},
   "source": [
    "앞뒤로 토큰이 잘 붙은것을 확인할 수 있다. 인코더의 입력, 디코더의 입력과 레이블을 각각 다시 Numpy 타입으로 저장해준다."
   ]
  },
  {
   "cell_type": "code",
   "execution_count": 23,
   "id": "406f705e",
   "metadata": {},
   "outputs": [],
   "source": [
    "encoder_input = np.array(df['text']) # 인코더의 입력\n",
    "decoder_input = np.array(df['decoder_input']) # 디코더의 입력\n",
    "decoder_target = np.array(df['decoder_target']) # 디코더의 레이블"
   ]
  },
  {
   "cell_type": "markdown",
   "id": "1fdc39a3",
   "metadata": {},
   "source": [
    "이제 훈련 데이터와 테스트 데이터를 분리한다.\n",
    "\n",
    "훈련 데이터와 테스트 데이터를 분리하는 방법은 분리 패키지를 사용하는 방법, 또는 직접 코딩을 통해서 분리하는 방법 등 여러 가지 방법이 있을 텐데 여기서는 직접 해본다. 우선, encoder_input과 크기와 형태가 같은 순서가 섞인 정수 시퀀스를 만들어준다."
   ]
  },
  {
   "cell_type": "code",
   "execution_count": 24,
   "id": "053ddf06",
   "metadata": {},
   "outputs": [
    {
     "name": "stdout",
     "output_type": "stream",
     "text": [
      "[42276 24134 24707 ... 32824 76717 34050]\n"
     ]
    }
   ],
   "source": [
    "indices = np.arange(encoder_input.shape[0])\n",
    "np.random.shuffle(indices)\n",
    "print(indices)"
   ]
  },
  {
   "cell_type": "markdown",
   "id": "2b01b095",
   "metadata": {},
   "source": [
    "이 정수 시퀀스를 이용해 다시 데이터의 샘플 순서를 정의해 주면 잘 섞인 샘플이 된다."
   ]
  },
  {
   "cell_type": "code",
   "execution_count": 25,
   "id": "7c1c8f33",
   "metadata": {},
   "outputs": [],
   "source": [
    "encoder_input = encoder_input[indices]\n",
    "decoder_input = decoder_input[indices]\n",
    "decoder_target = decoder_target[indices]"
   ]
  },
  {
   "cell_type": "markdown",
   "id": "25aef1be",
   "metadata": {},
   "source": [
    "이제 섞인 데이터를 8:2의 비율로 훈련 데이터와 테스트 데이터로 분리해준다. 전체 데이터의 크기에서 0.2를 곱해서 테스트 데이터의 크기를 정의해준다."
   ]
  },
  {
   "cell_type": "code",
   "execution_count": 26,
   "id": "2f5ac741",
   "metadata": {},
   "outputs": [
    {
     "name": "stdout",
     "output_type": "stream",
     "text": [
      "테스트 데이터의 수 : 17168\n"
     ]
    }
   ],
   "source": [
    "n_of_val = int(len(encoder_input)*0.2)\n",
    "print('테스트 데이터의 수 :', n_of_val)"
   ]
  },
  {
   "cell_type": "markdown",
   "id": "2558866e",
   "metadata": {},
   "source": [
    "이렇게 정의한 테스트 데이터의 개수를 이용해 전체 데이터를 양분한다. :표시의 위치에 주의할 것."
   ]
  },
  {
   "cell_type": "code",
   "execution_count": 27,
   "id": "ad20a75b",
   "metadata": {},
   "outputs": [
    {
     "name": "stdout",
     "output_type": "stream",
     "text": [
      "훈련 데이터의 개수 : 68675\n",
      "훈련 레이블의 개수 : 68675\n",
      "테스트 데이터의 개수 : 17168\n",
      "테스트 레이블의 개수 : 17168\n"
     ]
    }
   ],
   "source": [
    "encoder_input_train = encoder_input[:-n_of_val]\n",
    "decoder_input_train = decoder_input[:-n_of_val]\n",
    "decoder_target_train = decoder_target[:-n_of_val]\n",
    "\n",
    "encoder_input_test = encoder_input[-n_of_val:]\n",
    "decoder_input_test = decoder_input[-n_of_val:]\n",
    "decoder_target_test = decoder_target[-n_of_val:]\n",
    "\n",
    "print('훈련 데이터의 개수 :', len(encoder_input_train))\n",
    "print('훈련 레이블의 개수 :', len(decoder_input_train))\n",
    "print('테스트 데이터의 개수 :', len(encoder_input_test))\n",
    "print('테스트 레이블의 개수 :', len(decoder_input_test))"
   ]
  },
  {
   "cell_type": "markdown",
   "id": "daca3fcf",
   "metadata": {},
   "source": [
    "훈련 데이터와 테스트 데이터가 각각 68,675개와 17,168개로 잘 분리된 것을 볼 수 있다."
   ]
  },
  {
   "cell_type": "markdown",
   "id": "072b1e5f",
   "metadata": {},
   "source": [
    "### 정수 인코딩"
   ]
  },
  {
   "cell_type": "markdown",
   "id": "201bf8bb",
   "metadata": {},
   "source": [
    "#### 단어 집합(vocabulary) 만들기 및 정수 인코딩"
   ]
  },
  {
   "cell_type": "markdown",
   "id": "5bad332f",
   "metadata": {},
   "source": [
    "이제 기계가 텍스트를 숫자로 처리할 수 있도록 훈련 데이터와 테스트 데이터의 단어들을 모두 정수로 바꾸어 주어야 한다. 이를 위해서는 각 단어에 고유한 정수를 맵핑하는 작업이 필요하다. 이 과정을 **단어 집합(vocabulary)** 을 만든다고 표현한다. 훈련 데이터에 대해서 단어 집합을 만들어본다. 우선, 원문에 해당되는 `encoder_input_train`에 대해서 단어 집합을 만들게요.\n",
    "\n",
    "Keras의 토크나이저를 사용하면, 입력된 훈련 데이터로부터 단어 집합을 만들 수 있다."
   ]
  },
  {
   "cell_type": "code",
   "execution_count": 28,
   "id": "d183870c",
   "metadata": {},
   "outputs": [],
   "source": [
    "src_tokenizer = Tokenizer() # 토크나이저 정의\n",
    "src_tokenizer.fit_on_texts(encoder_input_train) # 입력된 데이터로부터 단어 집합 생성"
   ]
  },
  {
   "cell_type": "markdown",
   "id": "2e0c18b0",
   "metadata": {},
   "source": [
    "이제 단어 집합이 생성되는 동시에 각 단어에 고유한 정수가 부여되었다. 현재 생성된 단어 집합은 `src_tokenizer.word_index`에 저장 되어있다. 그런데 우리는 이렇게 만든 단어 집합에 있는 모든 단어를 사용하는 것이 아니라, 빈도수가 낮은 단어들은 훈련 데이터에서 제외하고 진행하려고 한다.\n",
    "\n",
    "등장 빈도수가 7회 미만인 단어들이 이 데이터에서 얼만큼의 비중을 차지하는지 확인해본다.\n",
    "\n",
    "`src_tokenizer.word_counts.items()`에는 단어와 각 단어의 등장 빈도수가 저장돼 있는데, 이를 통해서 통계적인 정보를 얻을 수 있다."
   ]
  },
  {
   "cell_type": "code",
   "execution_count": 29,
   "id": "bb1f383e",
   "metadata": {},
   "outputs": [
    {
     "name": "stdout",
     "output_type": "stream",
     "text": [
      "단어 집합(vocabulary)의 크기 : 64694\n",
      "등장 빈도가 9번 이하인 희귀 단어의 수: 47715\n",
      "단어 집합에서 희귀 단어를 제외시킬 경우의 단어 집합의 크기 16979\n",
      "단어 집합에서 희귀 단어의 비율: 73.75490771941756\n",
      "전체 등장 빈도에서 희귀 단어 등장 빈도 비율: 4.972441378112387\n"
     ]
    }
   ],
   "source": [
    "threshold = 10\n",
    "total_cnt = len(src_tokenizer.word_index) # 단어의 수\n",
    "rare_cnt = 0 # 등장 빈도수가 threshold보다 작은 단어의 개수를 카운트\n",
    "total_freq = 0 # 훈련 데이터의 전체 단어 빈도수 총 합\n",
    "rare_freq = 0 # 등장 빈도수가 threshold보다 작은 단어의 등장 빈도수의 총 합\n",
    "\n",
    "# 단어와 빈도수의 쌍(pair)을 key와 value로 받는다.\n",
    "for key, value in src_tokenizer.word_counts.items():\n",
    "    total_freq = total_freq + value\n",
    "\n",
    "    # 단어의 등장 빈도수가 threshold보다 작으면\n",
    "    if(value < threshold):\n",
    "        rare_cnt = rare_cnt + 1\n",
    "        rare_freq = rare_freq + value\n",
    "\n",
    "print('단어 집합(vocabulary)의 크기 :', total_cnt)\n",
    "print('등장 빈도가 %s번 이하인 희귀 단어의 수: %s'%(threshold - 1, rare_cnt))\n",
    "print('단어 집합에서 희귀 단어를 제외시킬 경우의 단어 집합의 크기 %s'%(total_cnt - rare_cnt))\n",
    "print(\"단어 집합에서 희귀 단어의 비율:\", (rare_cnt / total_cnt)*100)\n",
    "print(\"전체 등장 빈도에서 희귀 단어 등장 빈도 비율:\", (rare_freq / total_freq)*100)"
   ]
  },
  {
   "cell_type": "markdown",
   "id": "7cff5bc8",
   "metadata": {},
   "source": [
    "encoder_input_train에는 6만여 개의 단어가 있다. 그 아래의 통계 정보들을 해석해보자.\n",
    "\n",
    "등장 빈도가 threshold 값인 10회 미만, 즉 9회 이하인 단어들은 단어 집합에서 무려 73% 이상을 차지하네요. 하지만 실제로 훈련 데이터에서 등장 빈도로 차지하는 비중은 상대적으로 적은 수치인 4.97%밖에 되지 않아요.\n",
    "\n",
    "그래서 등장 빈도가 6회 이하인 단어들은 정수 인코딩 과정에서 빼고, 훈련 데이터에서 제거하고자 합니다. 위에서 이를 제외한 단어 집합의 크기를 1만 7천여 개로 계산했는데, 이와 비슷한 값으로 어림잡아 단어 집합의 크기를 17000으로 제한해본다. 토크나이저를 정의할 때 num_words의 값을 정해주면, 단어 집합의 크기를 제한할 수 있다."
   ]
  },
  {
   "cell_type": "code",
   "execution_count": 30,
   "id": "5d193144",
   "metadata": {},
   "outputs": [],
   "source": [
    "src_vocab = 17000\n",
    "src_tokenizer = Tokenizer(num_words=src_vocab) # 단어 집합의 크기를 17,000으로 제한\n",
    "src_tokenizer.fit_on_texts(encoder_input_train) # 단어 집합 재생성"
   ]
  },
  {
   "cell_type": "markdown",
   "id": "dda4eed7",
   "metadata": {},
   "source": [
    "`texts_to_sequences()`는 생성된 단어 집합에 기반하여 입력으로 주어진 텍스트 데이터의 단어들을 모두 정수로 변환하는 정수 인코딩을 수행한다. 현재 단어 집합의 크기를 19,000으로 제한했으니까 이제 19,000이 넘는 숫자들은 정수 인코딩 후에는 데이터에 존재하지 않는다."
   ]
  },
  {
   "cell_type": "code",
   "execution_count": 31,
   "id": "ffb7c82e",
   "metadata": {},
   "outputs": [
    {
     "name": "stdout",
     "output_type": "stream",
     "text": [
      "[[33, 102, 86, 214, 261, 2240, 2616, 11, 1143, 174, 62, 8658, 55, 7, 73, 1673, 11, 1143, 727, 14, 110, 12307, 91, 132, 2693, 1359, 410, 3286, 1816, 77, 2013, 2150, 1580], [124, 1608, 5, 32, 212, 126, 31, 1418, 143, 109, 451, 5924, 107, 354, 567, 1400, 5732, 1829, 349, 2883, 1274, 1482, 124, 100, 1581, 6393, 2784, 4747, 4182, 1987, 1400, 92, 124, 1, 1284, 479, 1484, 6656], [12, 111, 399, 220, 3518, 452, 1588, 405, 55, 18, 51, 449, 4367, 97, 220, 70, 1275, 289, 5860, 188, 8, 3764, 51, 402, 67, 211, 449, 138, 498, 220, 4, 36, 4145, 1609, 3177, 402, 51, 402]]\n"
     ]
    }
   ],
   "source": [
    "# 텍스트 시퀀스를 정수 시퀀스로 변환\n",
    "encoder_input_train = src_tokenizer.texts_to_sequences(encoder_input_train) \n",
    "encoder_input_test = src_tokenizer.texts_to_sequences(encoder_input_test)\n",
    "\n",
    "# 잘 진행되었는지 샘플 출력\n",
    "print(encoder_input_train[:3])"
   ]
  },
  {
   "cell_type": "markdown",
   "id": "822bcf97",
   "metadata": {},
   "source": [
    "이제 더 이상 텍스트 데이터가 아니라 정수가 나오고 있다.\n",
    "\n",
    "headlines 데이터에 대해서도 동일한 작업을 수행한다. 케라스의 토크나이저를 사용하여 `decoder_input_train`을 입력으로 전체 단어 집합과 각 단어에 대한 빈도수를 계산한다."
   ]
  },
  {
   "cell_type": "code",
   "execution_count": 32,
   "id": "8ab9fc72",
   "metadata": {},
   "outputs": [],
   "source": [
    "tar_tokenizer = Tokenizer()\n",
    "tar_tokenizer.fit_on_texts(decoder_input_train)"
   ]
  },
  {
   "cell_type": "markdown",
   "id": "bd209768",
   "metadata": {},
   "source": [
    "이제 단어 집합이 생성되는 동시에 각 단어에 고유한 정수가 부여되었다. 이는 `tar_tokenizer.word_index`에 저장되어 있어요. `tar_tokenizer.word_counts.items()`에는 단어와 각 단어의 등장 빈도수가 저장돼 있는데, 이를 통해서 통계적인 정보를 얻어서, 등장 빈도수가 6회 미만인 단어들이 이 데이터에서 얼만큼의 비중을 차지하는지 확인해본다."
   ]
  },
  {
   "cell_type": "code",
   "execution_count": 33,
   "id": "5777a7b2",
   "metadata": {},
   "outputs": [
    {
     "name": "stdout",
     "output_type": "stream",
     "text": [
      "단어 집합(vocabulary)의 크기 : 28535\n",
      "등장 빈도가 7번 이하인 희귀 단어의 수: 20350\n",
      "단어 집합에서 희귀 단어를 제외시킬 경우의 단어 집합의 크기 8185\n",
      "단어 집합에서 희귀 단어의 비율: 71.31592780795513\n",
      "전체 등장 빈도에서 희귀 단어 등장 빈도 비율: 6.598164124190584\n"
     ]
    }
   ],
   "source": [
    "threshold = 8\n",
    "total_cnt = len(tar_tokenizer.word_index) # 단어의 수\n",
    "rare_cnt = 0 # 등장 빈도수가 threshold보다 작은 단어의 개수를 카운트\n",
    "total_freq = 0 # 훈련 데이터의 전체 단어 빈도수 총 합\n",
    "rare_freq = 0 # 등장 빈도수가 threshold보다 작은 단어의 등장 빈도수의 총 합\n",
    "\n",
    "# 단어와 빈도수의 쌍(pair)을 key와 value로 받는다.\n",
    "for key, value in tar_tokenizer.word_counts.items():\n",
    "    total_freq = total_freq + value\n",
    "\n",
    "    # 단어의 등장 빈도수가 threshold보다 작으면\n",
    "    if(value < threshold):\n",
    "        rare_cnt = rare_cnt + 1\n",
    "        rare_freq = rare_freq + value\n",
    "\n",
    "print('단어 집합(vocabulary)의 크기 :', total_cnt)\n",
    "print('등장 빈도가 %s번 이하인 희귀 단어의 수: %s'%(threshold - 1, rare_cnt))\n",
    "print('단어 집합에서 희귀 단어를 제외시킬 경우의 단어 집합의 크기 %s'%(total_cnt - rare_cnt))\n",
    "print(\"단어 집합에서 희귀 단어의 비율:\", (rare_cnt / total_cnt)*100)\n",
    "print(\"전체 등장 빈도에서 희귀 단어 등장 빈도 비율:\", (rare_freq / total_freq)*100)"
   ]
  },
  {
   "cell_type": "markdown",
   "id": "814efd32",
   "metadata": {},
   "source": [
    "등장 빈도가 7회 이하인 단어들은 단어 집합에서 약 71%를 차지하고 있다. 하지만 실제로 훈련 데이터에서 등장 빈도로 차지하는 비중은 상대적으로 매우 적은 수치인 6.59%밖에 되지 않는다. 아까 했던 것과 동일하게 이 단어들은 모두 제거한다. 어림잡아 8000을 단어 집합의 크기로 제한한다."
   ]
  },
  {
   "cell_type": "code",
   "execution_count": 34,
   "id": "6cccf307",
   "metadata": {},
   "outputs": [
    {
     "name": "stdout",
     "output_type": "stream",
     "text": [
      "input\n",
      "input  [[1, 20, 62, 1322, 229, 88, 4130, 2153, 4, 5674], [1, 151, 1116, 4, 15, 5, 3227, 7, 137, 788, 960], [1, 101, 1205, 5399, 3, 405, 1648, 527, 6, 135, 110], [1, 379, 5, 426, 1945, 803, 289], [1, 7599, 2457, 970, 464, 26, 21, 2340, 1409, 860]]\n",
      "target\n",
      "decoder  [[20, 62, 1322, 229, 88, 4130, 2153, 4, 5674, 2], [151, 1116, 4, 15, 5, 3227, 7, 137, 788, 960, 2], [101, 1205, 5399, 3, 405, 1648, 527, 6, 135, 110, 2], [379, 5, 426, 1945, 803, 289, 2], [7599, 2457, 970, 464, 26, 21, 2340, 1409, 860, 2]]\n"
     ]
    }
   ],
   "source": [
    "tar_vocab = 8000\n",
    "tar_tokenizer = Tokenizer(num_words=tar_vocab) \n",
    "tar_tokenizer.fit_on_texts(decoder_input_train)\n",
    "tar_tokenizer.fit_on_texts(decoder_target_train)\n",
    "\n",
    "# 텍스트 시퀀스를 정수 시퀀스로 변환\n",
    "decoder_input_train = tar_tokenizer.texts_to_sequences(decoder_input_train) \n",
    "decoder_target_train = tar_tokenizer.texts_to_sequences(decoder_target_train)\n",
    "decoder_input_test = tar_tokenizer.texts_to_sequences(decoder_input_test)\n",
    "decoder_target_test = tar_tokenizer.texts_to_sequences(decoder_target_test)\n",
    "\n",
    "# 잘 변환되었는지 확인\n",
    "print('input')\n",
    "print('input ',decoder_input_train[:5])\n",
    "print('target')\n",
    "print('decoder ',decoder_target_train[:5])"
   ]
  },
  {
   "cell_type": "markdown",
   "id": "7f3d0eb4",
   "metadata": {},
   "source": [
    "정상적으로 정수 인코딩 작업이 끝났다. 현재 `decoder_input_train`과 `decoder_target_train`에는 더 이상 숫자 8,000이 넘는 숫자들은 존재하지 않아요. 그런데 다음 작업인 패딩 하기로 넘어가기 전에 한 가지 점검해야 할 것이 있어요.\n",
    "\n",
    "전체 데이터에서 빈도수가 낮은 단어가 삭제되었다는 것은 빈도수가 낮은 단어만으로 구성되었던 샘플들은 이제 빈(empty) 샘플이 되었을 가능성이 있다. 이 현상은 길이가 상대적으로 길었던 원문(text)의 경우에는 문제가 별로 없겠지만, 애초에 평균 길이가 9밖에 되지 않았던 머릿말(headlines)의 경우에는 이 현상이 굉장히 두드러졌을 가능성이 높다.\n",
    "\n",
    "요약문에서 길이가 0이 된 샘플들의 인덱스를 받아와본다. 여기서 주의할 점은 요약문인 `decoder_input`에는 `sostoken` 또는 `decoder_target`에는 `eostoken`이 추가된 상태이고, 이 두 토큰은 모든 샘플에서 등장하므로 빈도수가 샘플 수와 동일하게 매우 높으므로 단어 집합 제한에도 삭제되지 않아요. 그래서 이제 길이가 0이 된 요약문의 실제 길이는 1로 나올 것이다. 길이 0이 된 `ecoder_input`에는 `sostoken`, `decoder_target`에는 `eostoken`만 남아 있을 것이다.\n",
    "\n",
    "훈련 데이터와 테스트 데이터에 대해서 요약문의 길이가 1인 경우의 인덱스를 각각 `drop_train`과 `drop_test`에 라는 변수에 저장해본다. 이 샘플들은 모두 삭제한다."
   ]
  },
  {
   "cell_type": "code",
   "execution_count": 35,
   "id": "f72f47ed",
   "metadata": {},
   "outputs": [
    {
     "name": "stdout",
     "output_type": "stream",
     "text": [
      "삭제할 훈련 데이터의 개수 : 1\n",
      "삭제할 테스트 데이터의 개수 : 0\n",
      "훈련 데이터의 개수 : 68674\n",
      "훈련 레이블의 개수 : 68674\n",
      "테스트 데이터의 개수 : 17168\n",
      "테스트 레이블의 개수 : 17168\n"
     ]
    }
   ],
   "source": [
    "drop_train = [index for index, sentence in enumerate(decoder_input_train) if len(sentence) == 1]\n",
    "drop_test = [index for index, sentence in enumerate(decoder_input_test) if len(sentence) == 1]\n",
    "\n",
    "print('삭제할 훈련 데이터의 개수 :', len(drop_train))\n",
    "print('삭제할 테스트 데이터의 개수 :', len(drop_test))\n",
    "\n",
    "encoder_input_train = [sentence for index, sentence in enumerate(encoder_input_train) if index not in drop_train]\n",
    "decoder_input_train = [sentence for index, sentence in enumerate(decoder_input_train) if index not in drop_train]\n",
    "decoder_target_train = [sentence for index, sentence in enumerate(decoder_target_train) if index not in drop_train]\n",
    "\n",
    "encoder_input_test = [sentence for index, sentence in enumerate(encoder_input_test) if index not in drop_test]\n",
    "decoder_input_test = [sentence for index, sentence in enumerate(decoder_input_test) if index not in drop_test]\n",
    "decoder_target_test = [sentence for index, sentence in enumerate(decoder_target_test) if index not in drop_test]\n",
    "\n",
    "print('훈련 데이터의 개수 :', len(encoder_input_train))\n",
    "print('훈련 레이블의 개수 :', len(decoder_input_train))\n",
    "print('테스트 데이터의 개수 :', len(encoder_input_test))\n",
    "print('테스트 레이블의 개수 :', len(decoder_input_test))"
   ]
  },
  {
   "cell_type": "markdown",
   "id": "13096e8e",
   "metadata": {},
   "source": [
    "훈련 데이터와 테스트 데이터 모두 일정량의 샘플들이 제거된 것을 확인할 수 있다."
   ]
  },
  {
   "cell_type": "markdown",
   "id": "2de07c33",
   "metadata": {},
   "source": [
    "#### 패딩하기\n",
    "텍스트 시퀀스를 정수 시퀀스로 변환했다면, 이제 서로 다른 길이의 샘플들을 병렬 처리하기 위해 같은 길이로 맞춰주는 패딩 작업을 해주어야 한다. 아까 정해두었던 최대 길이로 패딩 해 줄 것이다. 최대 길이보다 짧은 데이터들은 뒤의 공간에 숫자 0을 넣어 최대 길이로 길이를 맞춰준다."
   ]
  },
  {
   "cell_type": "code",
   "execution_count": 36,
   "id": "3b921501",
   "metadata": {},
   "outputs": [],
   "source": [
    "encoder_input_train = pad_sequences(encoder_input_train, maxlen=text_max_len, padding='post')\n",
    "encoder_input_test = pad_sequences(encoder_input_test, maxlen=text_max_len, padding='post')\n",
    "decoder_input_train = pad_sequences(decoder_input_train, maxlen=headlines_max_len, padding='post')\n",
    "decoder_target_train = pad_sequences(decoder_target_train, maxlen=headlines_max_len, padding='post')\n",
    "decoder_input_test = pad_sequences(decoder_input_test, maxlen=headlines_max_len, padding='post')\n",
    "decoder_target_test = pad_sequences(decoder_target_test, maxlen=headlines_max_len, padding='post')"
   ]
  },
  {
   "cell_type": "markdown",
   "id": "683122e6",
   "metadata": {},
   "source": [
    "이제 학습에 필요한 데이터 전처리가 모두 끝났다."
   ]
  },
  {
   "cell_type": "markdown",
   "id": "cb7aae71",
   "metadata": {},
   "source": [
    "### 모델 설계하기\n",
    "우선 함수형 API를 이용해서 인코더를 설계해본다."
   ]
  },
  {
   "cell_type": "code",
   "execution_count": 37,
   "id": "15d7a8cd",
   "metadata": {},
   "outputs": [],
   "source": [
    "from tensorflow.keras.layers import Input, LSTM, Embedding, Dense, Concatenate, TimeDistributed\n",
    "from tensorflow.keras.models import Model\n",
    "from tensorflow.keras.callbacks import EarlyStopping, ModelCheckpoint\n",
    "\n",
    "\n",
    "# 인코더 설계 시작\n",
    "embedding_dim = 128\n",
    "hidden_size = 256\n",
    "\n",
    "# 인코더\n",
    "encoder_inputs = Input(shape=(text_max_len,))\n",
    "\n",
    "# 인코더의 임베딩 층\n",
    "enc_emb = Embedding(src_vocab, embedding_dim)(encoder_inputs)\n",
    "\n",
    "# 인코더의 LSTM 1\n",
    "# encoder_lstm1 = LSTM(hidden_size, return_sequences=True, return_state=True ,dropout = 0.4, recurrent_dropout = 0.4)\n",
    "encoder_lstm1 = LSTM(hidden_size, return_sequences=True, return_state=True ,dropout = 0.4)\n",
    "encoder_output1, state_h1, state_c1 = encoder_lstm1(enc_emb)\n",
    "\n",
    "# 인코더의 LSTM 2\n",
    "encoder_lstm2 = LSTM(hidden_size, return_sequences=True, return_state=True ,dropout = 0.4)\n",
    "encoder_output2, state_h2, state_c2 = encoder_lstm2(encoder_output1)\n",
    "\n",
    "# 인코더의 LSTM 3\n",
    "encoder_lstm3 = LSTM(hidden_size, return_sequences=True, return_state=True, dropout=0.4)\n",
    "encoder_outputs, state_h, state_c= encoder_lstm3(encoder_output2)"
   ]
  },
  {
   "cell_type": "markdown",
   "id": "f94a2c1e",
   "metadata": {},
   "source": [
    "이제 디코더를 설계해본다. (어텐션 메커니즘을 적용하여)"
   ]
  },
  {
   "cell_type": "code",
   "execution_count": 38,
   "id": "6bb7270e",
   "metadata": {},
   "outputs": [
    {
     "name": "stdout",
     "output_type": "stream",
     "text": [
      "Model: \"model\"\n",
      "__________________________________________________________________________________________________\n",
      "Layer (type)                    Output Shape         Param #     Connected to                     \n",
      "==================================================================================================\n",
      "input_1 (InputLayer)            [(None, 40)]         0                                            \n",
      "__________________________________________________________________________________________________\n",
      "embedding (Embedding)           (None, 40, 128)      2176000     input_1[0][0]                    \n",
      "__________________________________________________________________________________________________\n",
      "lstm (LSTM)                     [(None, 40, 256), (N 394240      embedding[0][0]                  \n",
      "__________________________________________________________________________________________________\n",
      "input_2 (InputLayer)            [(None, None)]       0                                            \n",
      "__________________________________________________________________________________________________\n",
      "lstm_1 (LSTM)                   [(None, 40, 256), (N 525312      lstm[0][0]                       \n",
      "__________________________________________________________________________________________________\n",
      "embedding_1 (Embedding)         (None, None, 128)    1024000     input_2[0][0]                    \n",
      "__________________________________________________________________________________________________\n",
      "lstm_2 (LSTM)                   [(None, 40, 256), (N 525312      lstm_1[0][0]                     \n",
      "__________________________________________________________________________________________________\n",
      "lstm_3 (LSTM)                   [(None, None, 256),  394240      embedding_1[0][0]                \n",
      "                                                                 lstm_2[0][1]                     \n",
      "                                                                 lstm_2[0][2]                     \n",
      "__________________________________________________________________________________________________\n",
      "attention_layer (AdditiveAttent (None, None, 256)    256         lstm_3[0][0]                     \n",
      "                                                                 lstm_2[0][0]                     \n",
      "__________________________________________________________________________________________________\n",
      "concat_layer (Concatenate)      (None, None, 512)    0           lstm_3[0][0]                     \n",
      "                                                                 attention_layer[0][0]            \n",
      "__________________________________________________________________________________________________\n",
      "dense (Dense)                   (None, None, 8000)   4104000     concat_layer[0][0]               \n",
      "==================================================================================================\n",
      "Total params: 9,143,360\n",
      "Trainable params: 9,143,360\n",
      "Non-trainable params: 0\n",
      "__________________________________________________________________________________________________\n"
     ]
    }
   ],
   "source": [
    "from tensorflow.keras.layers import AdditiveAttention\n",
    "\n",
    "# 디코더 설계\n",
    "decoder_inputs = Input(shape=(None,))\n",
    "\n",
    "# 디코더의 임베딩 층\n",
    "dec_emb_layer = Embedding(tar_vocab, embedding_dim)\n",
    "dec_emb = dec_emb_layer(decoder_inputs)\n",
    "\n",
    "# 디코더의 LSTM\n",
    "# decoder_lstm = LSTM(hidden_size, return_sequences=True, return_state=True, dropout=0.4, recurrent_dropout=0.2)\n",
    "decoder_lstm = LSTM(hidden_size, return_sequences=True, return_state=True, dropout=0.4)\n",
    "decoder_outputs, _, _ = decoder_lstm(dec_emb, initial_state=[state_h, state_c])\n",
    "\n",
    "# 어텐션 층(어텐션 함수)\n",
    "attn_layer = AdditiveAttention(name='attention_layer')\n",
    "\n",
    "# 인코더와 디코더의 모든 time step의 hidden state를 어텐션 층에 전달하고 결과를 리턴\n",
    "attn_out = attn_layer([decoder_outputs, encoder_outputs])\n",
    "\n",
    "\n",
    "# 어텐션의 결과와 디코더의 hidden state들을 연결\n",
    "decoder_concat_input = Concatenate(axis=-1, name='concat_layer')([decoder_outputs, attn_out])\n",
    "\n",
    "# 디코더의 출력층\n",
    "decoder_softmax_layer = Dense(tar_vocab, activation='softmax')\n",
    "decoder_softmax_outputs = decoder_softmax_layer(decoder_concat_input)\n",
    "\n",
    "# 모델 정의\n",
    "model = Model([encoder_inputs, decoder_inputs], decoder_softmax_outputs)\n",
    "model.summary()"
   ]
  },
  {
   "cell_type": "markdown",
   "id": "181fcd4e",
   "metadata": {},
   "source": [
    "위의 코드는 인코더의 hidden state들과 디코더의 hidden state들을 어텐션 함수의 입력으로 사용하고, 어텐션 함수가 리턴한 값을 예측 시에 디코더의 hidden state와 함께 활용하는 형태로 작동하고 있다."
   ]
  },
  {
   "cell_type": "code",
   "execution_count": 39,
   "id": "da877987",
   "metadata": {},
   "outputs": [
    {
     "name": "stdout",
     "output_type": "stream",
     "text": [
      "Epoch 1/50\n",
      "269/269 [==============================] - 64s 86ms/step - loss: 5.9932 - val_loss: 5.6006\n",
      "Epoch 2/50\n",
      "269/269 [==============================] - 22s 83ms/step - loss: 5.5273 - val_loss: 5.3279\n",
      "Epoch 3/50\n",
      "269/269 [==============================] - 23s 86ms/step - loss: 5.1537 - val_loss: 4.9093\n",
      "Epoch 4/50\n",
      "269/269 [==============================] - 23s 86ms/step - loss: 4.7249 - val_loss: 4.5909\n",
      "Epoch 5/50\n",
      "269/269 [==============================] - 23s 85ms/step - loss: 4.3943 - val_loss: 4.3606\n",
      "Epoch 6/50\n",
      "269/269 [==============================] - 23s 85ms/step - loss: 4.1314 - val_loss: 4.1979\n",
      "Epoch 7/50\n",
      "269/269 [==============================] - 23s 86ms/step - loss: 3.9103 - val_loss: 4.0710\n",
      "Epoch 8/50\n",
      "269/269 [==============================] - 23s 86ms/step - loss: 3.7196 - val_loss: 3.9720\n",
      "Epoch 9/50\n",
      "269/269 [==============================] - 23s 85ms/step - loss: 3.5530 - val_loss: 3.9006\n",
      "Epoch 10/50\n",
      "269/269 [==============================] - 23s 86ms/step - loss: 3.4065 - val_loss: 3.8464\n",
      "Epoch 11/50\n",
      "269/269 [==============================] - 23s 86ms/step - loss: 3.2777 - val_loss: 3.8100\n",
      "Epoch 12/50\n",
      "269/269 [==============================] - 23s 86ms/step - loss: 3.1614 - val_loss: 3.7780\n",
      "Epoch 13/50\n",
      "269/269 [==============================] - 23s 86ms/step - loss: 3.0560 - val_loss: 3.7636\n",
      "Epoch 14/50\n",
      "269/269 [==============================] - 23s 86ms/step - loss: 2.9604 - val_loss: 3.7450\n",
      "Epoch 15/50\n",
      "269/269 [==============================] - 23s 86ms/step - loss: 2.8716 - val_loss: 3.7410\n",
      "Epoch 16/50\n",
      "269/269 [==============================] - 23s 86ms/step - loss: 2.7907 - val_loss: 3.7351\n",
      "Epoch 17/50\n",
      "269/269 [==============================] - 23s 86ms/step - loss: 2.7148 - val_loss: 3.7328\n",
      "Epoch 18/50\n",
      "269/269 [==============================] - 23s 86ms/step - loss: 2.6442 - val_loss: 3.7345\n",
      "Epoch 19/50\n",
      "269/269 [==============================] - 23s 86ms/step - loss: 2.5776 - val_loss: 3.7453\n",
      "Epoch 00019: early stopping\n"
     ]
    }
   ],
   "source": [
    "model.compile(optimizer='adam', loss='sparse_categorical_crossentropy')\n",
    "es = EarlyStopping(monitor='val_loss', patience=2, verbose=1)\n",
    "history = model.fit(x=[encoder_input_train, decoder_input_train], y=decoder_target_train, \\\n",
    "          validation_data=([encoder_input_test, decoder_input_test], decoder_target_test), \\\n",
    "          batch_size=256, callbacks=[es], epochs=50)"
   ]
  },
  {
   "cell_type": "markdown",
   "id": "414cf639",
   "metadata": {},
   "source": [
    "이제 훈련 데이터의 손실과 검증 데이터의 손실이 줄어드는 과정을 시각화 해본다."
   ]
  },
  {
   "cell_type": "code",
   "execution_count": 40,
   "id": "ec928a98",
   "metadata": {},
   "outputs": [
    {
     "data": {
      "image/png": "[encoded data removed]",
      "text/plain": [
       "<Figure size 432x288 with 1 Axes>"
      ]
     },
     "metadata": {
      "needs_background": "light"
     },
     "output_type": "display_data"
    }
   ],
   "source": [
    "plt.plot(history.history['loss'], label='train')\n",
    "plt.plot(history.history['val_loss'], label='test')\n",
    "plt.legend()\n",
    "plt.show()"
   ]
  },
  {
   "cell_type": "markdown",
   "id": "0d0d831f",
   "metadata": {},
   "source": [
    "### 인퍼런스 모델 구현하기"
   ]
  },
  {
   "cell_type": "markdown",
   "id": "faf46fa3",
   "metadata": {},
   "source": [
    "테스트 단계에서는 정수 인덱스 행렬로 존재하던 텍스트 데이터를 실제 데이터로 복원해야 하므로, 필요한 3개의 사전을 아래와 같이 미리 준비해둔다."
   ]
  },
  {
   "cell_type": "code",
   "execution_count": 41,
   "id": "2e7127ba",
   "metadata": {},
   "outputs": [],
   "source": [
    "src_index_to_word = src_tokenizer.index_word # 원문 단어 집합에서 정수 -> 단어를 얻음\n",
    "tar_word_to_index = tar_tokenizer.word_index # 요약 단어 집합에서 단어 -> 정수를 얻음\n",
    "tar_index_to_word = tar_tokenizer.index_word # 요약 단어 집합에서 정수 -> 단어를 얻음"
   ]
  },
  {
   "cell_type": "markdown",
   "id": "b75f333a",
   "metadata": {},
   "source": [
    "seq2seq는 훈련할 때와 실제 동작할 때(인퍼런스 단계)의 방식이 다르므로 그에 맞게 모델 설계를 별개로 진행해야 한다.\n",
    "\n",
    "훈련 단계에서는 디코더의 입력부에 정답이 되는 문장 전체를 한꺼번에 넣고 디코더의 출력과 한 번에 비교할 수 있으므로, 인코더와 디코더를 엮은 통짜 모델 하나만 준비한다.\n",
    "\n",
    "그러나 정답 문장이 없는 인퍼런스 단계에서는 만들어야 할 문장의 길이만큼 디코더가 반복 구조로 동작해야 하기 때문에 부득이하게 인퍼런스를 위한 모델 설계를 별도로 해주어야한다. 이때는 인코더 모델과 디코더 모델을 분리해서 설계한다."
   ]
  },
  {
   "cell_type": "code",
   "execution_count": 42,
   "id": "8b5face9",
   "metadata": {},
   "outputs": [],
   "source": [
    "# 인코더 설계\n",
    "encoder_model = Model(inputs=encoder_inputs, outputs=[encoder_outputs, state_h, state_c])\n",
    "\n",
    "# 이전 시점의 상태들을 저장하는 텐서\n",
    "decoder_state_input_h = Input(shape=(hidden_size,))\n",
    "decoder_state_input_c = Input(shape=(hidden_size,))\n",
    "\n",
    "dec_emb2 = dec_emb_layer(decoder_inputs)\n",
    "\n",
    "# 문장의 다음 단어를 예측하기 위해서 초기 상태(initial_state)를 이전 시점의 상태로 사용. 이는 뒤의 함수 decode_sequence()에 구현\n",
    "# 훈련 과정에서와 달리 LSTM의 리턴하는 은닉 상태와 셀 상태인 state_h와 state_c를 버리지 않음.\n",
    "decoder_outputs2, state_h2, state_c2 = decoder_lstm(dec_emb2, initial_state=[decoder_state_input_h, decoder_state_input_c])\n",
    "\n",
    "# 어텐션 메커니즘을 사용하는 출력층을 설계\n",
    "# 어텐션 함수\n",
    "decoder_hidden_state_input = Input(shape=(text_max_len, hidden_size))\n",
    "attn_out_inf = attn_layer([decoder_outputs2, decoder_hidden_state_input])\n",
    "decoder_inf_concat = Concatenate(axis=-1, name='concat')([decoder_outputs2, attn_out_inf])\n",
    "\n",
    "# 디코더의 출력층\n",
    "decoder_outputs2 = decoder_softmax_layer(decoder_inf_concat) \n",
    "\n",
    "# 최종 디코더 모델\n",
    "decoder_model = Model(\n",
    "    [decoder_inputs] + [decoder_hidden_state_input,decoder_state_input_h, decoder_state_input_c],\n",
    "    [decoder_outputs2] + [state_h2, state_c2])"
   ]
  },
  {
   "cell_type": "markdown",
   "id": "a99416f3",
   "metadata": {},
   "source": [
    "인퍼런스 단계에서 단어 시퀀스를 완성하는 함수를 만든다"
   ]
  },
  {
   "cell_type": "code",
   "execution_count": 43,
   "id": "14d6c4bb",
   "metadata": {},
   "outputs": [],
   "source": [
    "def decode_sequence(input_seq):\n",
    "    # 입력으로부터 인코더의 상태를 얻음\n",
    "    e_out, e_h, e_c = encoder_model.predict(input_seq)\n",
    "\n",
    "     # <SOS>에 해당하는 토큰 생성\n",
    "    target_seq = np.zeros((1,1))\n",
    "    target_seq[0, 0] = tar_word_to_index['sostoken']\n",
    "\n",
    "    stop_condition = False\n",
    "    decoded_sentence = ''\n",
    "    while not stop_condition: # stop_condition이 True가 될 때까지 루프 반복\n",
    "\n",
    "        output_tokens, h, c = decoder_model.predict([target_seq] + [e_out, e_h, e_c])\n",
    "        sampled_token_index = np.argmax(output_tokens[0, -1, :])\n",
    "        sampled_token = tar_index_to_word[sampled_token_index]\n",
    "\n",
    "        if (sampled_token!='eostoken'):\n",
    "            decoded_sentence += ' '+sampled_token\n",
    "\n",
    "        #  <eos>에 도달하거나 최대 길이를 넘으면 중단.\n",
    "        if (sampled_token == 'eostoken'  or len(decoded_sentence.split()) >= (headlines_max_len-1)):\n",
    "            stop_condition = True\n",
    "\n",
    "        # 길이가 1인 타겟 시퀀스를 업데이트\n",
    "        target_seq = np.zeros((1,1))\n",
    "        target_seq[0, 0] = sampled_token_index\n",
    "\n",
    "        # 상태를 업데이트 합니다.\n",
    "        e_h, e_c = h, c\n",
    "\n",
    "    return decoded_sentence"
   ]
  },
  {
   "cell_type": "markdown",
   "id": "4b1b7efa",
   "metadata": {},
   "source": [
    "### 모델 테스트하기"
   ]
  },
  {
   "cell_type": "markdown",
   "id": "1bbb5428",
   "metadata": {},
   "source": [
    "테스트 단계에서는 정수 시퀀스를 텍스트 시퀀스로 변환하여 결과를 확인하는 것이 편하다. 주어진 정수 시퀀스를 텍스트 시퀀스로 변환하는 함수를 만들어본다. 함수를 만들 때, Text의 정수 시퀀스에서는 패딩을 위해 사용되는 숫자 0을 제외하고 headlines의 정수 시퀀스에서는 숫자 0, 시작 토큰의 인덱스, 종료 토큰의 인덱스를 출력에서 제외하도록 만든다."
   ]
  },
  {
   "cell_type": "code",
   "execution_count": 44,
   "id": "39abb6bc",
   "metadata": {},
   "outputs": [],
   "source": [
    "# 원문의 정수 시퀀스를 텍스트 시퀀스로 변환\n",
    "def seq2text(input_seq):\n",
    "    temp=''\n",
    "    for i in input_seq:\n",
    "        if (i!=0):\n",
    "            temp = temp + src_index_to_word[i]+' '\n",
    "    return temp\n",
    "\n",
    "# 머릿말의 정수 시퀀스를 텍스트 시퀀스로 변환\n",
    "def seq2headlines(input_seq):\n",
    "    temp=''\n",
    "    for i in input_seq:\n",
    "        if ((i!=0 and i!=tar_word_to_index['sostoken']) and i!=tar_word_to_index['eostoken']):\n",
    "            temp = temp + tar_index_to_word[i] + ' '\n",
    "    return temp"
   ]
  },
  {
   "cell_type": "markdown",
   "id": "67b710fc",
   "metadata": {},
   "source": [
    "테스트 데이터 약 50개의 샘플에 대해서 실제 요약과 예측된 요약을 비교"
   ]
  },
  {
   "cell_type": "code",
   "execution_count": 45,
   "id": "70aa65ba",
   "metadata": {},
   "outputs": [
    {
     "name": "stdout",
     "output_type": "stream",
     "text": [
      "원문 : iran bears resemblance barcelona forward lionel messi car taken police station disrupting traffic iranian city pressured father posing messi jersey landed modelling contracts due resemblance argentine \n",
      "실제 요약 : police messi lookalike car for traffic \n",
      "예측 요약 :  neymar builds messi mural of him\n",
      "\n",
      "\n",
      "원문 : north korea saturday test fired three short range missiles sea japan us said however three missiles failed one blowing almost immediately launch two failing flight comes amid us south korea ongoing joint military drills north korea denounced preparation war \n",
      "실제 요약 : north korea test launches three missiles all of them fail \n",
      "예측 요약 :  korea tests missile test with ballistic missile\n",
      "\n",
      "\n",
      "원문 : lawsuit car delivery service claimed uber may saving million year using price rides market rates california drivers independent contractors suit alleged uber paying average hour expenses benefits drivers treated employees \n",
      "실제 요약 : uber accused of saving mn year by cheating us drivers \n",
      "예측 요약 :  uber fires self driving cars in us\n",
      "\n",
      "\n",
      "원문 : head contingent us marines based australia northern city darwin relieved command caught drunk driving night colonel james relieved duties due loss trust confidence corps spokesperson said however convicted court pleading guilty \n",
      "실제 요약 : top us commander in aus of duties over drunk driving \n",
      "예측 요약 :  us senator to give gun to us employees\n",
      "\n",
      "\n",
      "원문 : us president donald trump ordered inquiry alleged theft american technology intellectual property china according commission theft american intellectual property china world principal intellectual property trump administration estimated theft high billion accused harming us business interests \n",
      "실제 요약 : trump orders probe into china trade practices \n",
      "예측 요약 :  trump admits to fire in china\n",
      "\n",
      "\n",
      "원문 : university washington engineers turned toilet tissue like paper wearable sensor detect eye researchers showed tearing tissue paper loaded electricity conducting carbon nanotubes paper acts sensor flexible sensor potential applications healthcare entertainment robotics said researchers \n",
      "실제 요약 : us researchers turn toilet paper into wearable \n",
      "예측 요약 :  brain brain brain with brain\n",
      "\n",
      "\n",
      "원문 : karni sena chief lokendra singh kalvi claimed underworld dawood ibrahim financed bollywood film padmavati added authority deepika padukone challenge us today saying film released earlier sunday film producers announced padmavati release postponed original release date december \n",
      "실제 요약 : dawood the film padmavati claims karni sena chief \n",
      "예측 요약 :  karni sena chief seeks salman khan for padmavati\n",
      "\n",
      "\n",
      "원문 : ex england players david john morris turn respectively today flew wwii planes stadium getting warm match australia planes supposed fly feet convinced pilot hover feet players fined \n",
      "실제 요약 : eng players once flew planes over stadium during their match \n",
      "예측 요약 :  team once once flew off world cup medal\n",
      "\n",
      "\n",
      "원문 : registering police complaint husband indian cricketer mohammad shami hasin jahan released recording alleged phone call recording man alleged shami accepts taken money pakistani girl named dubai jahan earlier released screenshots chats shami \n",
      "실제 요약 : shami wife releases phone call recording against him \n",
      "예측 요약 :  shami shami booked for stalking accused in actress\n",
      "\n",
      "\n",
      "원문 : pro gorkhaland protestors thursday attacked west bengal tourism minister gautam deb car agitation separate state entered th day several government properties vandalised darjeeling minister claimed centre encouraging incidents however protestors denied involvement cases vandalism demanded cbi probe \n",
      "실제 요약 : minister car attacked buildings damaged over gorkhaland \n",
      "예측 요약 :  protestors imposed in darjeeling amid protests in darjeeling\n",
      "\n",
      "\n",
      "원문 : saint louis university missouri us offering people would volunteer exposed flu virus study vaccines university converted part campus hotel research hub dubbed hotel volunteers would access meals internet tv private bathrooms day stay \n",
      "실제 요약 : people to get to stay at hotel get infected \n",
      "예측 요약 :  us foods to recall cancer in us\n",
      "\n",
      "\n",
      "원문 : officials nepal national park preparing bring back several endangered one rhinos swept away india different parts nepal recent floods one rhino found dead two year old rhino detected indian settlement four found along nepal india border \n",
      "실제 요약 : nepal to take back which into india in floods \n",
      "예측 요약 :  nepal residents stranded in south africa sea\n",
      "\n",
      "\n",
      "원문 : department industrial policy promotion planning begin talks india commerce policy covering issues relevant sector however list include issues related fdi reports claimed draft policy expected look issue deep commerce platforms like flipkart amazon \n",
      "실제 요약 : to begin talks on india commerce policy \n",
      "예측 요약 :  govt to launch comm commerce firms on commerce reports\n",
      "\n",
      "\n",
      "원문 : telecom regulator trai asked reliance communications submit details subscribers immediately balance prepaid customers january rcom submit details subscribers successfully remaining subscribers could port rcom shut voice call service december users move networks till december end \n",
      "실제 요약 : trai asks rcom to give details of users balance \n",
      "예측 요약 :  trai asks trai to link ads with telcos\n",
      "\n",
      "\n",
      "원문 : official teaser shah rukh khan starrer zero actor seen playing dwarf released teaser also features actor salman khan cameo appearance film directed aanand rai also starring anushka sharma katrina kaif zero scheduled release december \n",
      "실제 요약 : teaser of srk starrer zero featuring salman khan released \n",
      "예측 요약 :  teaser of salman khan starrer unveiled\n",
      "\n",
      "\n",
      "원문 : mumbai police upgraded security given singer sonu nigam two bjp mlas receiving intelligence jammu kashmir police threat lives threats reportedly groups plotting singer assassination last year sonu complained forced woken azaan even though muslim \n",
      "실제 요약 : police security for sonu nigam after death threats \n",
      "예측 요약 :  police to get action against terrorists at delhi airport\n",
      "\n",
      "\n",
      "원문 : china shanghai blood products manufactures develops human blood products lost billion value days shares plunged december shanghai said would begin investing stocks losses million securities investments first nine months year \n",
      "실제 요약 : chinese blood products firm loses billion value in just days \n",
      "예측 요약 :  china firm lost crore in days\n",
      "\n",
      "\n",
      "원문 : first us based researchers created mimicking material may allow surgeons print knee replacement parts based material matching human strength tested stability plastic model knee custom implants based models patient obtained ct mri scans scientists said \n",
      "실제 요약 : like made for implants \n",
      "예측 요약 :  scientists discover new robot to deliver organs\n",
      "\n",
      "\n",
      "원문 : per reports india official entry oscars newton plot similar iranian film secret ballot similar characters concept reacting newton writer director amit masurkar said knew someday people draw similarities one amit added watched secret ballot bits pieces felt different \n",
      "실제 요약 : newton plot similar to iranian film secret ballot report \n",
      "예측 요약 :  indian actors writer slams india over rising\n",
      "\n",
      "\n",
      "원문 : former paytm employee arrested cyber cell police hyderabad duping people fake kyc verification field executive required visit customers assist updating kyc according police allegedly accessed users paytm passwords started transferring money wallet logging \n",
      "실제 요약 : ex paytm exec dupes users with fake kyc verification in hyd \n",
      "예측 요약 :  ex employee arrested for fake aadhaar card in us\n",
      "\n",
      "\n",
      "원문 : virat kohli interview recalled father passed away arms suffering heart attack kohli came bat delhi hours father died said could get help time night one responded think became much focussed added \n",
      "실제 요약 : it happened in my arms kohli recalls father death \n",
      "예측 요약 :  my heart my heart attack kohli wife dies aged\n",
      "\n",
      "\n",
      "원문 : several protestors allegedly belonging rajput organisation karni sena vandalised delhi noida direct toll plaza sunday demanding ban movie padmaavat armed protestors also set barrier ablaze arrested protestors uploaded video incident online threatening cause disorder movie released \n",
      "실제 요약 : karni sena noida toll plaza over padmaavat row \n",
      "예측 요약 :  mns workers threaten fire at sterlite protests\n",
      "\n",
      "\n",
      "원문 : slamming amitabh bachchan commenting kathua rape case actor prakash raj said requested said want speak prakash added talking party talking issue kathua case pertains rape eight year old muslim girl allegedly drugged gangraped killed group men \n",
      "실제 요약 : prakash raj slams big for not speaking on kathua rape case \n",
      "예측 요약 :  do not want to join politics bjp on kathua rape\n",
      "\n",
      "\n",
      "원문 : american electronics startup developed allows users live stream upload capture social media sites like facebook instagram via app features dedicated buttons clicked take photos record videos also features megapixel camera offers hours continuous recording \n",
      "실제 요약 : lets users live stream post on facebook \n",
      "예측 요약 :  app lets users share photos of videos\n",
      "\n",
      "\n",
      "원문 : national security guard introduced new comprehensive psychology test entry level soldiers aspiring inducted trained black cat commandos threshold mark obtained soldier psychology test order join officials said move ensure physically mentally fit personnel inducted officials added \n",
      "실제 요약 : introduces test to select future \n",
      "예측 요약 :  police to ban on national anthem\n",
      "\n",
      "\n",
      "원문 : andhra pradesh cm chandrababu naidu monday alleged centre threatening impose president rule state nobody threats added said rally similar kolkata united india rally held amaravati leaders parties take part \n",
      "실제 요약 : centre threatening to impose prez rule in andhra cm naidu \n",
      "예측 요약 :  will not interfere in andhra pradesh cm naidu\n",
      "\n",
      "\n",
      "원문 : rti reply revealed illegal clinics nursing homes run community health centre gurugram moreover bogus doctors qualifications working clinics responding query officials added complaint made offenders action taken \n",
      "실제 요약 : gurugram has fake doctors and illegal clinics rti \n",
      "예측 요약 :  medical hospitals to get medical treatment for medical health\n",
      "\n",
      "\n",
      "원문 : us state california adopted sanctuary state law extends protections illegal immigrants first kind law prohibits police cooperating federal immigration authorities bill protect families living fear every day california governor jerry brown said referring donald trump government crackdown illegal immigrants \n",
      "실제 요약 : us state signs state law for illegal migrants \n",
      "예측 요약 :  us to get anti muslim law to protect muslims\n",
      "\n",
      "\n",
      "원문 : indian major hcl technologies sued us based alleged hcl deliver enterprise software project agreed timelines client company sued hcl tech million according reports however hcl said discussion resolve matter \n",
      "실제 요약 : us sues for crore \n",
      "예측 요약 :  indian firm sued over crore over theft of\n",
      "\n",
      "\n",
      "원문 : chip installed bats used first time champions trophy collect data stroke play assist players improving game chips developed intel measure bat speed angles back lift path know whether playing straight across line technology already used golf baseball \n",
      "실제 요약 : what is of chip installed bats in champions trophy \n",
      "예측 요약 :  team tests world cup for using robots\n",
      "\n",
      "\n",
      "원문 : singer abhijeet bhattacharya claimed people like karan johar reason new twitter account suspended added twitter obliged people brought pakistani artistes india abhijeet called indian filmmakers actors anti national working pakistani artistes tweeted bigger enemies \n",
      "실제 요약 : johar reason for twitter account suspension \n",
      "예측 요약 :  twitter reacts to trolls on twitter joining remark\n",
      "\n",
      "\n",
      "원문 : professor university hyderabad discovered two new languages namely spoken andhra pradesh odisha professor presented research foundation endangered languages conference uk university said name speech community claims descent great indian saint poet valmiki \n",
      "실제 요약 : hyderabad university professor discovers two new languages \n",
      "예측 요약 :  professor who wrote letter to solve lunch\n",
      "\n",
      "\n",
      "원문 : congress leader sajjan kumar written party president rahul gandhi submitting resignation primary membership party according reports comes delhi high court convicted kumar role anti sikh riots sentenced imprisonment life court asked surrender december \n",
      "실제 요약 : sajjan kumar quits cong after conviction in riots case reports \n",
      "예측 요약 :  rahul gandhi is not responsible for cji rahul\n",
      "\n",
      "\n",
      "원문 : issued statement singer sonu nigam refused give lakh reward sonu shaved head saying singer fulfilled one three conditions added give amount sonu puts garland old torn shoes around neck around country \n",
      "실제 요약 : will give only when sonu all conditions \n",
      "예측 요약 :  sonu nigam sonu nigam for not paying sonu nigam\n",
      "\n",
      "\n",
      "원문 : american researchers developed ai based system produce fake fingerprints copying range partial fingerprints ai generated fingerprints named bypass biometric identification systems researchers claimed fingerprints system supposedly error rate one thousand \n",
      "실제 요약 : ai based system that can create fake developed \n",
      "예측 요약 :  ai to detect facial recognition to detect developed\n",
      "\n",
      "\n",
      "원문 : fifty years ago christmas eve nasa astronauts frank james william became first humans orbit moon apollo mission known capturing put thumb spacecraft window could completely hide earth earth merely milky way galaxy said \n",
      "실제 요약 : covered earth with my astronaut on st moon orbiting mission \n",
      "예측 요약 :  years since hawking to be named in space\n",
      "\n",
      "\n",
      "원문 : first time municipal corporation delhi elections none option made available polling took place sunday total number voters delhi civic polls stood crore voter turnout recorded low \n",
      "실제 요약 : introduced for the first time in mcd elections \n",
      "예측 요약 :  rajasthan to get new first ever in\n",
      "\n",
      "\n",
      "원문 : bengaluru based online grocery delivery startup bigbasket early talks raise million next months existing new investors bigbasket previously raised million series round led alibaba valuation million february bigbasket founded raised million till date \n",
      "실제 요약 : bengaluru bigbasket in talks to raise million \n",
      "예측 요약 :  bigbasket to raise million in funding funding\n",
      "\n",
      "\n",
      "원문 : resorts international filed lawsuit victims las vegas mass shooting took place last year owns bay resort shooter opened fire people hotel said liable deaths damages citing law grants protection company anti terrorism technology \n",
      "실제 요약 : us hotel sues victims of las vegas mass shooting \n",
      "예측 요약 :  las vegas mass shooting shot dead in vegas\n",
      "\n",
      "\n",
      "원문 : passenger travelling kolkata mumbai jet airways flight arrested uploading picture face covered inside aircraft caption terrorist flight destroy women hearts co passenger saw post informed crew however man told police indulging prank friends \n",
      "실제 요약 : jet airways flyer posts terrorist on flight on social media held \n",
      "예측 요약 :  flight attendant passenger punches woman in flight\n",
      "\n",
      "\n",
      "원문 : man uttar pradesh booked sedition picture facebook account caption support pakistan post protested activists organisations like bajrang dal however man family members claimed leaves mobile phone shop someone tried frame \n",
      "실제 요약 : man writes support pakistan on fb booked for sedition \n",
      "예측 요약 :  man booked for posting objectionable speech on fb complaint\n",
      "\n",
      "\n",
      "원문 : prices petrol diesel reduced states gujarat maharashtra thursday comes finance minister arun jaitley announced cut fuel prices across country immediate effect centre cut excise duty remaining borne oil companies added \n",
      "실제 요약 : petrol diesel get cheaper in gujarat and maharashtra \n",
      "예측 요약 :  petrol prices cut by litre diesel in fuel prices\n",
      "\n",
      "\n",
      "원문 : international chemical weapons watchdog confirmed uk findings source nerve agent used poison ex spy sergei skripal daughter originally came russia organisation prohibition chemical weapons name chemical confirmed identity uk blamed russia nerve agent used poison skripal \n",
      "실제 요약 : russia made nerve agent used on ex spy watchdog \n",
      "예측 요약 :  chemical nerve spy spy spy in russia\n",
      "\n",
      "\n",
      "원문 : delhi police filed case woman thrashed mob people allegedly objected feeding stray dogs capital sunlight colony thursday evening family victim claimed targeted kashmiri muslims police officials assured culprits punished \n",
      "실제 요약 : mob thrashes woman for feeding stray dogs in delhi \n",
      "예측 요약 :  delhi police station booked for holi\n",
      "\n",
      "\n",
      "원문 : video shows dubai police officer flying motorbike called instead wheels video officer seen bike air dubai police vehicles background designed russian company fly feet ground stay airborne around minutes \n",
      "실제 요약 : video shows dubai officer on flying \n",
      "예측 요약 :  video shows traffic traffic cop with iron goes viral\n",
      "\n",
      "\n",
      "원문 : noida police arrested mumbai based man sunil gupta along wife son allegedly showing dead mother alive documents get property worth crore sunil mother left property divided among sons accused forged documents showing property gift mother demise \n",
      "실제 요약 : man shows dead mother alive for crore property arrested \n",
      "예측 요약 :  son arrested for wife wife wife in mumbai\n",
      "\n",
      "\n",
      "원문 : telecom operator reliance communications saturday posted loss crore june quarter marking third straight quarterly loss anil ambani led company posted profit crore period year ago telecom sector continues adversely impacted competitive intensity scale never witnessed company said \n",
      "실제 요약 : rcom posts third consecutive quarterly loss of crore \n",
      "예측 요약 :  anil ambani posts loss of crore in crore\n",
      "\n",
      "\n",
      "원문 : many bjp mps following least one twitter accounts trolled union minister sushma swaraj issuance passports interfaith couple hindustan times analysis revealed analysis states pm narendra modi follows eight accounts swaraj listed tweets liking micro blogging site \n",
      "실제 요약 : bjp mps follow accounts which trolled swaraj on twitter \n",
      "예측 요약 :  bjp mp apologises for calling indians who wear hindi\n",
      "\n",
      "\n",
      "원문 : former south african domestic cricketer jailed years found guilty raping woman times years year old guilty counts rape two sexual assault one intimidation following week long trial manchester claimed victim story lies \n",
      "실제 요약 : ex sa cricketer jailed for raping woman times in yrs \n",
      "예측 요약 :  australian cricketer jailed for yrs for raping year old girl\n",
      "\n",
      "\n",
      "원문 : brazilian judge ordered facebook pay million failing cooperate corruption investigation facebook fined failing give access whatsapp messages exchanged individuals investigation defrauding health care system brazilian state case disclosed data required applicable law facebook said \n",
      "실제 요약 : fb fined mn in brazil for not helping corruption probe \n",
      "예측 요약 :  ex uber firm arrested for sharing data leak in facebook\n",
      "\n",
      "\n"
     ]
    }
   ],
   "source": [
    "for i in range(50, 100):\n",
    "    print(\"원문 :\", seq2text(encoder_input_test[i]))\n",
    "    print(\"실제 요약 :\", seq2headlines(decoder_input_test[i]))\n",
    "    print(\"예측 요약 :\", decode_sequence(encoder_input_test[i].reshape(1, text_max_len)))\n",
    "    print(\"\\n\")"
   ]
  },
  {
   "cell_type": "markdown",
   "id": "ee81fe5e",
   "metadata": {},
   "source": [
    "많은 결과가 출력이 되는데, 기존의 요약과는 다른 요약을 출력하면서도 원문의 내용을 담고 있는 의미 있는 요약들이 보인다. 심지어 일부 요약의 경우에는 원문에 없던 단어를 사용해서 요약을 하기도 하고 있다. 워드 임베딩과 RNN의 콜라보로 이뤄낸 신기한 성과이다!"
   ]
  },
  {
   "cell_type": "markdown",
   "id": "09257cd9",
   "metadata": {},
   "source": [
    "## 추출적 요약 해보기"
   ]
  },
  {
   "cell_type": "markdown",
   "id": "e02e3064",
   "metadata": {},
   "source": [
    "텍스트 요약에는 추상적 요약 외에도 이미 본문에 존재하는 단어구, 문장을 뽑아서 요약으로 삼는 추출적 요약 방법도 있다."
   ]
  },
  {
   "cell_type": "markdown",
   "id": "b8094b3c",
   "metadata": {},
   "source": [
    "### summarize 사용하기"
   ]
  },
  {
   "cell_type": "code",
   "execution_count": 46,
   "id": "4e4b1b92",
   "metadata": {},
   "outputs": [],
   "source": [
    "import requests\n",
    "from summa.summarizer import summarize"
   ]
  },
  {
   "cell_type": "code",
   "execution_count": 57,
   "id": "4a68d1cf",
   "metadata": {},
   "outputs": [],
   "source": [
    "df_2 = data.copy()"
   ]
  },
  {
   "cell_type": "code",
   "execution_count": 67,
   "id": "a91b4c30",
   "metadata": {},
   "outputs": [
    {
     "name": "stdout",
     "output_type": "stream",
     "text": [
      "원문_1 \n",
      "Saurav Kant, an alumnus of upGrad and IIIT-B's PG Program in Machine learning and Artificial Intelligence, was a Sr Systems Engineer at Infosys with almost 5 years of work experience. The program and upGrad's 360-degree career support helped him transition to a Data Scientist at Tech Mahindra with 90% salary hike. upGrad's Online Power Learning has powered 3 lakh+ careers.\n",
      "요약 \n",
      "upGrad's Online Power Learning has powered 3 lakh+ careers.\n",
      "\n",
      "원문_2 \n",
      "Kunal Shah's credit card bill payment platform, CRED, gave users a chance to win free food from Swiggy for one year. Pranav Kaushik, a Delhi techie, bagged this reward after spending 2000 CRED coins. Users get one CRED coin per rupee of bill paid, which can be used to avail rewards from brands like Ixigo, BookMyShow, UberEats, Cult.Fit and more.\n",
      "요약 \n",
      "Users get one CRED coin per rupee of bill paid, which can be used to avail rewards from brands like Ixigo, BookMyShow, UberEats, Cult.Fit and more.\n",
      "\n",
      "원문_3 \n",
      "New Zealand defeated India by 8 wickets in the fourth ODI at Hamilton on Thursday to win their first match of the five-match ODI series. India lost an international match under Rohit Sharma's captaincy after 12 consecutive victories dating back to March 2018. The match witnessed India getting all out for 92, their seventh lowest total in ODI cricket history.\n",
      "요약 \n",
      "The match witnessed India getting all out for 92, their seventh lowest total in ODI cricket history.\n",
      "\n"
     ]
    }
   ],
   "source": [
    "for idx, text in enumerate(df_2['text'][:3]):\n",
    "    print(f'원문_{idx+1} \\n{text}')\n",
    "    summary = summarize(text, ratio=0.5, split=True)\n",
    "    print(f'요약 \\n{\" \".join(summary)}\\n') # 요약된 문장들을 합쳐서 출력합니다."
   ]
  },
  {
   "cell_type": "code",
   "execution_count": null,
   "id": "8db5fd45",
   "metadata": {},
   "outputs": [],
   "source": []
  }
 ],
 "metadata": {
  "kernelspec": {
   "display_name": "Python 3 (ipykernel)",
   "language": "python",
   "name": "python3"
  },
  "language_info": {
   "codemirror_mode": {
    "name": "ipython",
    "version": 3
   },
   "file_extension": ".py",
   "mimetype": "text/x-python",
   "name": "python",
   "nbconvert_exporter": "python",
   "pygments_lexer": "ipython3",
   "version": "3.9.7"
  }
 },
 "nbformat": 4,
 "nbformat_minor": 5
}
